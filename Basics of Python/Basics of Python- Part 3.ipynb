{
 "cells": [
  {
   "cell_type": "code",
   "execution_count": null,
   "metadata": {},
   "outputs": [],
   "source": [
    "#OPERATORS\n",
    "    #Arthimatic operators\n",
    "    #Relational or comparision operators\n",
    "    #Logical operators\n",
    "    #Equality operators\n",
    "    #Bitwise operators\n",
    "    #Assignment operators\n",
    "    #Special operators\n",
    "    #tenary operators"
   ]
  },
  {
   "cell_type": "code",
   "execution_count": 2,
   "metadata": {},
   "outputs": [
    {
     "name": "stdout",
     "output_type": "stream",
     "text": [
      "a+b: 12\n",
      "a-b: 8\n",
      "a*b: 20\n",
      "a/b: 5.0\n",
      "a%b: 0\n",
      "a//b: 5\n",
      "a**b: 100\n"
     ]
    }
   ],
   "source": [
    "#Arthematic Operator\n",
    "\n",
    "a=10\n",
    "b= 2\n",
    "\n",
    "print('a+b:', a+b)\n",
    "print('a-b:', a-b)\n",
    "print('a*b:', a*b)\n",
    "print('a/b:', a/b)\n",
    "print('a%b:', a%b)\n",
    "print('a//b:', a//b)\n",
    "print('a**b:', a**b)"
   ]
  },
  {
   "cell_type": "code",
   "execution_count": 3,
   "metadata": {},
   "outputs": [
    {
     "name": "stdout",
     "output_type": "stream",
     "text": [
      "a>b: False\n",
      "a<b: True\n",
      "a>=b: False\n",
      "a<=b: True\n"
     ]
    }
   ],
   "source": [
    "#Relational Operator\n",
    "\n",
    "a= 10\n",
    "b=20\n",
    "\n",
    "print('a>b:', a>b)\n",
    "print('a<b:', a<b)\n",
    "print('a>=b:', a>=b)\n",
    "print('a<=b:', a<=b)"
   ]
  },
  {
   "cell_type": "code",
   "execution_count": 5,
   "metadata": {},
   "outputs": [
    {
     "name": "stdout",
     "output_type": "stream",
     "text": [
      "a>b: False\n",
      "a<b: True\n",
      "a>=b: False\n",
      "a<=b: True\n"
     ]
    }
   ],
   "source": [
    "a= \"SUYASH\"\n",
    "b= \"suyash\"\n",
    "\n",
    "print('a>b:', a>b)\n",
    "print('a<b:', a<b)\n",
    "print('a>=b:', a>=b)\n",
    "print('a<=b:', a<=b)"
   ]
  },
  {
   "cell_type": "code",
   "execution_count": 7,
   "metadata": {},
   "outputs": [
    {
     "data": {
      "text/plain": [
       "False"
      ]
     },
     "execution_count": 7,
     "metadata": {},
     "output_type": "execute_result"
    }
   ],
   "source": [
    "#Equality Operators\n",
    "\n",
    "list1 = [1,2,3,4,5]\n",
    "list2 = [1,2,3,4,6]\n",
    "list1 == list2"
   ]
  },
  {
   "cell_type": "code",
   "execution_count": 8,
   "metadata": {},
   "outputs": [
    {
     "data": {
      "text/plain": [
       "True"
      ]
     },
     "execution_count": 8,
     "metadata": {},
     "output_type": "execute_result"
    }
   ],
   "source": [
    "10 != '10'"
   ]
  },
  {
   "cell_type": "code",
   "execution_count": null,
   "metadata": {},
   "outputs": [],
   "source": [
    "#LOGICAL OPERATORS\n",
    "\n",
    "and \n",
    "or\n",
    "not"
   ]
  },
  {
   "cell_type": "code",
   "execution_count": 3,
   "metadata": {},
   "outputs": [
    {
     "data": {
      "text/plain": [
       "10"
      ]
     },
     "execution_count": 3,
     "metadata": {},
     "output_type": "execute_result"
    }
   ],
   "source": [
    "#non zero number will be true\n",
    "#if empty string result be br false\n",
    "#when zero result will be false\n",
    "\n",
    "x = 1\n",
    "y = 10\n",
    "\n",
    "x and y"
   ]
  },
  {
   "cell_type": "code",
   "execution_count": 12,
   "metadata": {},
   "outputs": [
    {
     "name": "stdout",
     "output_type": "stream",
     "text": [
      "10\n"
     ]
    }
   ],
   "source": [
    "#ASSIGNMENT OPERATOR\n",
    "\n",
    "x = 100\n",
    "x -= 90\n",
    "print(x)"
   ]
  },
  {
   "cell_type": "code",
   "execution_count": 13,
   "metadata": {},
   "outputs": [
    {
     "name": "stdout",
     "output_type": "stream",
     "text": [
      "10\n",
      "80\n"
     ]
    }
   ],
   "source": [
    "x = 100\n",
    "x -= 90\n",
    "print(x)\n",
    "x +=70\n",
    "print(x)"
   ]
  },
  {
   "cell_type": "code",
   "execution_count": 15,
   "metadata": {},
   "outputs": [
    {
     "name": "stdout",
     "output_type": "stream",
     "text": [
      "please enter 1st number26\n",
      "please enter 2nd number22\n",
      "26\n"
     ]
    }
   ],
   "source": [
    "#TERNARY OPERATOR\n",
    "\n",
    "a = int(input('please enter 1st number'))\n",
    "b = int(input('please enter 2nd number'))\n",
    "\n",
    "x=a if a>b else b\n",
    "print(x)"
   ]
  },
  {
   "cell_type": "code",
   "execution_count": 17,
   "metadata": {},
   "outputs": [
    {
     "name": "stdout",
     "output_type": "stream",
     "text": [
      "please enter 1st number7\n",
      "please enter 2nd number6\n",
      "please enter 3rd number5\n",
      "7\n"
     ]
    }
   ],
   "source": [
    "a = int(input('please enter 1st number'))\n",
    "b = int(input('please enter 2nd number'))\n",
    "c = int(input('please enter 3rd number'))\n",
    "\n",
    "x=a if a>b & a>c else b if b>c else c\n",
    "print(x)"
   ]
  },
  {
   "cell_type": "code",
   "execution_count": 1,
   "metadata": {},
   "outputs": [
    {
     "name": "stdout",
     "output_type": "stream",
     "text": [
      "please enter 1st number23\n",
      "please enter 2nd number34\n",
      "please enter 3rd number45\n",
      "45\n"
     ]
    }
   ],
   "source": [
    "a = int(input('please enter 1st number'))\n",
    "b = int(input('please enter 2nd number'))\n",
    "c = int(input('please enter 3rd number'))\n",
    "\n",
    "x=a if a>=b and a>=c else b if b>c else c\n",
    "print(x)"
   ]
  },
  {
   "cell_type": "code",
   "execution_count": null,
   "metadata": {},
   "outputs": [],
   "source": [
    "#FUNCTIONS IN PYTHON\n",
    "  #When we are wrting multiple lines of code then we use function key.Ex coverting celsius to fahrenheit\n",
    "  #this type of programming known as functional programming \n",
    "\n",
    "#String functions\n",
    "#Regular expressions\n",
    "    "
   ]
  },
  {
   "cell_type": "code",
   "execution_count": 2,
   "metadata": {},
   "outputs": [
    {
     "name": "stdout",
     "output_type": "stream",
     "text": [
      "Good Morning\n"
     ]
    }
   ],
   "source": [
    "def greeting():\n",
    "    print('Good Morning')\n",
    "greeting()"
   ]
  },
  {
   "cell_type": "code",
   "execution_count": 9,
   "metadata": {},
   "outputs": [
    {
     "name": "stdout",
     "output_type": "stream",
     "text": [
      "Hello, Suyash Good Morning\n"
     ]
    }
   ],
   "source": [
    "def greetings(name):\n",
    "    print('Hello,', name, 'Good Morning')\n",
    "greetings('Suyash')"
   ]
  },
  {
   "cell_type": "code",
   "execution_count": 10,
   "metadata": {},
   "outputs": [
    {
     "name": "stdout",
     "output_type": "stream",
     "text": [
      "Hello, Guest Good Morning\n"
     ]
    }
   ],
   "source": [
    "def greetings(name ='Guest'):\n",
    "    print('Hello,', name, 'Good Morning')\n",
    "greetings()"
   ]
  },
  {
   "cell_type": "code",
   "execution_count": 41,
   "metadata": {},
   "outputs": [
    {
     "name": "stdout",
     "output_type": "stream",
     "text": [
      "The square of 10 is : 100\n"
     ]
    }
   ],
   "source": [
    "def square(x):\n",
    "    print('The square of {} is : {}'.format(x,x*x))\n",
    "square(10)"
   ]
  },
  {
   "cell_type": "code",
   "execution_count": 19,
   "metadata": {},
   "outputs": [
    {
     "name": "stdout",
     "output_type": "stream",
     "text": [
      "30\n"
     ]
    }
   ],
   "source": [
    "def sum(a,b):\n",
    "    print(a+b)\n",
    "sum(10,20)"
   ]
  },
  {
   "cell_type": "code",
   "execution_count": 20,
   "metadata": {},
   "outputs": [
    {
     "name": "stdout",
     "output_type": "stream",
     "text": [
      "8\n"
     ]
    }
   ],
   "source": [
    "def sub(a,b):\n",
    "    print(a-b)\n",
    "sub(20,12)"
   ]
  },
  {
   "cell_type": "code",
   "execution_count": 25,
   "metadata": {},
   "outputs": [
    {
     "name": "stdout",
     "output_type": "stream",
     "text": [
      "10 the number is even\n",
      "23 the number is odd\n",
      "10.2 the number is odd\n"
     ]
    }
   ],
   "source": [
    "def evenodd(n):\n",
    "    if n%2 == 0:\n",
    "        print('{} the number is even'.format(n))\n",
    "    else:\n",
    "        print('{} the number is odd'.format(n))\n",
    "evenodd(10)\n",
    "evenodd(23)\n",
    "evenodd(10.2)"
   ]
  },
  {
   "cell_type": "code",
   "execution_count": 27,
   "metadata": {},
   "outputs": [
    {
     "name": "stdout",
     "output_type": "stream",
     "text": [
      "120\n"
     ]
    }
   ],
   "source": [
    "def fact(n):\n",
    "    result = 1\n",
    "    while n>=1:\n",
    "        result = result * n\n",
    "        n = n-1\n",
    "    print(result)\n",
    "fact(5)"
   ]
  },
  {
   "cell_type": "code",
   "execution_count": 7,
   "metadata": {},
   "outputs": [
    {
     "name": "stdout",
     "output_type": "stream",
     "text": [
      "479001600\n"
     ]
    }
   ],
   "source": [
    "def fact(n):\n",
    "    result = 1\n",
    "    while n>=1:\n",
    "        result = result * n\n",
    "        n = n-1\n",
    "    print(result)\n",
    "fact(12)"
   ]
  },
  {
   "cell_type": "code",
   "execution_count": 9,
   "metadata": {},
   "outputs": [
    {
     "name": "stdout",
     "output_type": "stream",
     "text": [
      "1\n",
      "the factorial of 1 is None\n",
      "2\n",
      "the factorial of 2 is None\n",
      "6\n",
      "the factorial of 3 is None\n",
      "24\n",
      "the factorial of 4 is None\n",
      "120\n",
      "the factorial of 5 is None\n",
      "720\n",
      "the factorial of 6 is None\n",
      "5040\n",
      "the factorial of 7 is None\n",
      "40320\n",
      "the factorial of 8 is None\n",
      "362880\n",
      "the factorial of 9 is None\n",
      "3628800\n",
      "the factorial of 10 is None\n"
     ]
    }
   ],
   "source": [
    "def fact(n):\n",
    "    result = 1\n",
    "    while n>=1:\n",
    "        result = result * n\n",
    "        n = n-1\n",
    "    print(result)\n",
    "        \n",
    "for i in range(1,11):\n",
    "    print('the factorial of {} is {}'.format(i, fact(i)))"
   ]
  },
  {
   "cell_type": "code",
   "execution_count": 37,
   "metadata": {},
   "outputs": [
    {
     "name": "stdout",
     "output_type": "stream",
     "text": [
      "the factorial of 1 is 1\n",
      "the factorial of 2 is 2\n",
      "the factorial of 3 is 6\n",
      "the factorial of 4 is 24\n",
      "the factorial of 5 is 120\n",
      "the factorial of 6 is 720\n",
      "the factorial of 7 is 5040\n",
      "the factorial of 8 is 40320\n",
      "the factorial of 9 is 362880\n",
      "the factorial of 10 is 3628800\n"
     ]
    }
   ],
   "source": [
    "def fact(n):\n",
    "    result = 1\n",
    "    while n>=1:\n",
    "        result = result * n\n",
    "        n = n-1\n",
    "    return result\n",
    "for i in range(1,11):\n",
    "    print('the factorial of {} is {}'.format(i,fact(i)))"
   ]
  },
  {
   "cell_type": "code",
   "execution_count": 38,
   "metadata": {},
   "outputs": [
    {
     "data": {
      "text/plain": [
       "(15, -11, 60, 0.06666666666666667)"
      ]
     },
     "execution_count": 38,
     "metadata": {},
     "output_type": "execute_result"
    }
   ],
   "source": [
    "def calc(a,b,c):\n",
    "    sum = a+b+c\n",
    "    sub = a-b-c\n",
    "    mul = a*b*c\n",
    "    div = a/b/c\n",
    "    return sum, sub, mul, div\n",
    "calc(2,3,10)"
   ]
  },
  {
   "cell_type": "code",
   "execution_count": 40,
   "metadata": {},
   "outputs": [
    {
     "data": {
      "text/plain": [
       "{'sum': 22, 'sub': 18, 'mul': 40, 'div': 10.0}"
      ]
     },
     "execution_count": 40,
     "metadata": {},
     "output_type": "execute_result"
    }
   ],
   "source": [
    "def calc(a,b):\n",
    "    sum = a+b\n",
    "    sub = a-b\n",
    "    mul = a*b\n",
    "    div = a/b\n",
    "    return {'sum': sum, 'sub': sub, 'mul': mul, 'div': div}\n",
    "calc(20,2)"
   ]
  },
  {
   "cell_type": "code",
   "execution_count": 12,
   "metadata": {},
   "outputs": [
    {
     "name": "stdout",
     "output_type": "stream",
     "text": [
      "the count is 0\n",
      "the count is 1\n",
      "the count is 2\n",
      "the count is 3\n",
      "the count is 4\n",
      "the count is 5\n",
      "the count is 6\n",
      "the count is 7\n",
      "the count is 8\n",
      "Goodbye!\n"
     ]
    }
   ],
   "source": [
    "count =0\n",
    "while count<9:\n",
    "    print('the count is',count)\n",
    "    count=count+1\n",
    "print('Goodbye!')"
   ]
  },
  {
   "cell_type": "code",
   "execution_count": null,
   "metadata": {},
   "outputs": [],
   "source": [
    "#Type of Arguments\n",
    "    #Positional\n",
    "    #Keywords\n",
    "    #Default\n",
    "    #variable length "
   ]
  },
  {
   "cell_type": "code",
   "execution_count": 24,
   "metadata": {},
   "outputs": [
    {
     "name": "stdout",
     "output_type": "stream",
     "text": [
      "Hello Suyash your company is MRPL\n"
     ]
    }
   ],
   "source": [
    "'''Keyword Argument'''\n",
    "def greeting(name,company):\n",
    "    print('Hello', name,'your company is',company)\n",
    "greeting(company='MRPL', name='Suyash')"
   ]
  },
  {
   "cell_type": "code",
   "execution_count": 27,
   "metadata": {},
   "outputs": [
    {
     "name": "stdout",
     "output_type": "stream",
     "text": [
      "Hello Guest your company is MRPL\n"
     ]
    }
   ],
   "source": [
    "'''Default Argument'''\n",
    "def greeting(company,name='Guest'):\n",
    "    print('Hello',name,'your company is',company)\n",
    "greeting('MRPL')"
   ]
  },
  {
   "cell_type": "code",
   "execution_count": 35,
   "metadata": {},
   "outputs": [
    {
     "name": "stdout",
     "output_type": "stream",
     "text": [
      "210\n"
     ]
    }
   ],
   "source": [
    "'''Variable Length'''\n",
    "def sum(*a):\n",
    "    result=0\n",
    "    for i in a:\n",
    "        result=result+i\n",
    "    print(result)\n",
    "sum(10,20,30,40,50,60)"
   ]
  },
  {
   "cell_type": "code",
   "execution_count": null,
   "metadata": {},
   "outputs": [],
   "source": [
    "#Two type of Variable\n",
    "    #Global\n",
    "    #Local"
   ]
  },
  {
   "cell_type": "code",
   "execution_count": 40,
   "metadata": {},
   "outputs": [
    {
     "name": "stdout",
     "output_type": "stream",
     "text": [
      "f2 10\n"
     ]
    }
   ],
   "source": [
    "z=10\n",
    "def f2():\n",
    "    print('f2',z)\n",
    "    \n",
    "def f1():\n",
    "    global z\n",
    "    z=19\n",
    "    print('f1',z)\n",
    "f1()\n",
    "f2()"
   ]
  },
  {
   "cell_type": "code",
   "execution_count": 41,
   "metadata": {},
   "outputs": [
    {
     "name": "stdout",
     "output_type": "stream",
     "text": [
      "f2 10\n",
      "f1 19\n"
     ]
    }
   ],
   "source": [
    "z=10\n",
    "def f2():\n",
    "    print('f2',z)\n",
    "    \n",
    "def f1():\n",
    "    global z\n",
    "    z=19\n",
    "    print('f1',z)\n",
    "f2()\n",
    "f1()"
   ]
  },
  {
   "cell_type": "code",
   "execution_count": 46,
   "metadata": {
    "scrolled": true
   },
   "outputs": [
    {
     "name": "stdout",
     "output_type": "stream",
     "text": [
      "20\n",
      "10\n"
     ]
    }
   ],
   "source": [
    "a=10\n",
    "def f1():\n",
    "    a=20\n",
    "    print(a)\n",
    "    print(globals()['a'])\n",
    "f1()"
   ]
  },
  {
   "cell_type": "code",
   "execution_count": 47,
   "metadata": {},
   "outputs": [
    {
     "name": "stdout",
     "output_type": "stream",
     "text": [
      "outer is calling\n",
      "inner is calling\n"
     ]
    }
   ],
   "source": [
    "#Nested Function\n",
    "\n",
    "def outer():\n",
    "    print('outer is calling')\n",
    "    def inner():\n",
    "        print('inner is calling')\n",
    "    inner()\n",
    "outer()"
   ]
  },
  {
   "cell_type": "code",
   "execution_count": 48,
   "metadata": {},
   "outputs": [
    {
     "data": {
      "text/plain": [
       "30"
      ]
     },
     "execution_count": 48,
     "metadata": {},
     "output_type": "execute_result"
    }
   ],
   "source": [
    "#Lambda Function also know as Anonymous or Nameless Functions\n",
    "\n",
    "m1=lambda a,b:a+b\n",
    "m1(10,20)"
   ]
  },
  {
   "cell_type": "code",
   "execution_count": 49,
   "metadata": {},
   "outputs": [
    {
     "data": {
      "text/plain": [
       "34"
      ]
     },
     "execution_count": 49,
     "metadata": {},
     "output_type": "execute_result"
    }
   ],
   "source": [
    "m2=lambda a,b : a if a>b else b\n",
    "m2(32,34)"
   ]
  },
  {
   "cell_type": "code",
   "execution_count": null,
   "metadata": {},
   "outputs": [],
   "source": []
  }
 ],
 "metadata": {
  "kernelspec": {
   "display_name": "Python 3",
   "language": "python",
   "name": "python3"
  },
  "language_info": {
   "codemirror_mode": {
    "name": "ipython",
    "version": 3
   },
   "file_extension": ".py",
   "mimetype": "text/x-python",
   "name": "python",
   "nbconvert_exporter": "python",
   "pygments_lexer": "ipython3",
   "version": "3.7.6"
  }
 },
 "nbformat": 4,
 "nbformat_minor": 4
}
