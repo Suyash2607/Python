{
 "cells": [
  {
   "cell_type": "code",
   "execution_count": 2,
   "metadata": {},
   "outputs": [
    {
     "name": "stdout",
     "output_type": "stream",
     "text": [
      "Enter the year you want to check2020\n",
      "Its a Leap Year\n"
     ]
    }
   ],
   "source": [
    "#1. To find whether the year is leap year of not\n",
    "\n",
    "year=int(input('Enter the year you want to check'))\n",
    "if (year%400==0) or (year%4==0) and (year%100!=0):\n",
    "    print('Its a Leap Year')\n",
    "else:\n",
    "    print('Its not a Leap Year')"
   ]
  },
  {
   "cell_type": "code",
   "execution_count": 4,
   "metadata": {},
   "outputs": [
    {
     "name": "stdout",
     "output_type": "stream",
     "text": [
      "12\n"
     ]
    }
   ],
   "source": [
    "#2. Convert Binary number to Decimal(OPTION 1)\n",
    "    \n",
    "\n",
    "def bintodec(n):\n",
    "    return int(n,2)\n",
    "print(bintodec('1100'))"
   ]
  },
  {
   "cell_type": "code",
   "execution_count": 6,
   "metadata": {},
   "outputs": [
    {
     "name": "stdout",
     "output_type": "stream",
     "text": [
      "Enter the binary number1100\n",
      "Binary to Decimal 12\n"
     ]
    }
   ],
   "source": [
    "#3. Convert Binary number to Decimal(OPTION 2)\n",
    "\n",
    "num=list(input('Enter the binary number'))\n",
    "value=0\n",
    "for i in range (len(num)):\n",
    "    digit=num.pop()\n",
    "    if digit=='1':\n",
    "        value=value+pow(2,i)\n",
    "print('Binary to Decimal', value)"
   ]
  },
  {
   "cell_type": "code",
   "execution_count": 6,
   "metadata": {},
   "outputs": [
    {
     "name": "stdout",
     "output_type": "stream",
     "text": [
      "3 and 5\n",
      "5 and 7\n",
      "11 and 13\n",
      "17 and 19\n",
      "29 and 31\n",
      "41 and 43\n",
      "59 and 61\n",
      "71 and 73\n",
      "101 and 103\n",
      "107 and 109\n",
      "137 and 139\n",
      "149 and 151\n",
      "179 and 181\n",
      "191 and 193\n",
      "197 and 199\n",
      "227 and 229\n",
      "239 and 241\n",
      "269 and 271\n",
      "281 and 283\n",
      "311 and 313\n",
      "347 and 349\n",
      "419 and 421\n",
      "431 and 433\n",
      "461 and 463\n"
     ]
    }
   ],
   "source": [
    "#4. Program to print twin prime number between 1 to 500\n",
    "\n",
    "def is_prime(n):\n",
    "   for i in range(2, n):\n",
    "      if n % i == 0:\n",
    "         return False\n",
    "   return True\n",
    "\n",
    "def generate_twins(start, end):\n",
    "   for i in range(start, end):\n",
    "      j = i + 2\n",
    "      if(is_prime(i) and is_prime(j)):\n",
    "         print(\"{} and {}\".format(i, j))\n",
    "\n",
    "generate_twins(2, 500)"
   ]
  },
  {
   "cell_type": "code",
   "execution_count": 15,
   "metadata": {},
   "outputs": [
    {
     "name": "stdout",
     "output_type": "stream",
     "text": [
      "Enter number to validate63\n",
      "3\n",
      "3\n",
      "7\n"
     ]
    }
   ],
   "source": [
    "#5. Program to find out prime factor of a number\n",
    "\n",
    "n=int(input('Enter number to validate'))\n",
    "i=2\n",
    "while (n!=1):\n",
    "    rem=n%i\n",
    "    if (rem==0):\n",
    "        n=n/i\n",
    "        print(i)\n",
    "    else:\n",
    "        i=i+1"
   ]
  },
  {
   "cell_type": "code",
   "execution_count": 1,
   "metadata": {},
   "outputs": [
    {
     "name": "stdout",
     "output_type": "stream",
     "text": [
      "Enter the number63\n",
      "The divisor of 63 are:\n",
      "1\n",
      "3\n",
      "7\n",
      "9\n",
      "21\n",
      "63\n"
     ]
    }
   ],
   "source": [
    "#6. Program to find all divisor of a number\n",
    "\n",
    "n=int(input('Enter the number'))\n",
    "def divisor(n):\n",
    "    print('The divisor of', n, 'are:')\n",
    "    for i in range (1,n+1):\n",
    "        if n%i==0:\n",
    "            print(i)\n",
    "\n",
    "divisor(n)"
   ]
  },
  {
   "cell_type": "code",
   "execution_count": 2,
   "metadata": {},
   "outputs": [
    {
     "name": "stdout",
     "output_type": "stream",
     "text": [
      "Enter the number in Binary form26\n",
      "The binary number is 0b11010\n"
     ]
    }
   ],
   "source": [
    "#7. Program to convert Decimal to Binary\n",
    "\n",
    "n=int(input('Enter the number in Binary form'))\n",
    "print('The binary number is', bin(n))"
   ]
  },
  {
   "cell_type": "code",
   "execution_count": 5,
   "metadata": {},
   "outputs": [
    {
     "name": "stdout",
     "output_type": "stream",
     "text": [
      "Enter the number5\n"
     ]
    },
    {
     "data": {
      "text/plain": [
       "[5, 10, 15, 20, 25, 30, 35, 40, 45, 50]"
      ]
     },
     "execution_count": 5,
     "metadata": {},
     "output_type": "execute_result"
    }
   ],
   "source": [
    "#8. Functions that inputs a number and prints the multiplication table of that number\n",
    "\n",
    "num=int(input('Enter the number'))\n",
    "def double(x):\n",
    "    return num*x\n",
    "n=range(1,11)\n",
    "list(map(double,n))\n"
   ]
  },
  {
   "cell_type": "code",
   "execution_count": 13,
   "metadata": {},
   "outputs": [
    {
     "name": "stdout",
     "output_type": "stream",
     "text": [
      "Enter the first number220\n",
      "Enter the second number284\n",
      "220 284 are amicable number\n"
     ]
    }
   ],
   "source": [
    "#9. Write a function to print pair of amicable number in a range\n",
    "\n",
    "m=int(input('Enter the first number'))\n",
    "n=int(input('Enter the second number'))\n",
    "def printdivisor(n):\n",
    "    sum=0\n",
    "    for i in range(1,n):\n",
    "        if (n%i==0):\n",
    "            sum+=i\n",
    "            i+=1\n",
    "    return sum\n",
    "m1= printdivisor(m)\n",
    "m2= printdivisor(n)\n",
    "if (m1==n and m2==m):\n",
    "    print(m,n, 'are amicable number')\n",
    "else:\n",
    "    print(m,n, 'are not amicable number')"
   ]
  },
  {
   "cell_type": "code",
   "execution_count": 3,
   "metadata": {},
   "outputs": [
    {
     "data": {
      "text/plain": [
       "[1, 3, 5, 7, 9, 11]"
      ]
     },
     "execution_count": 3,
     "metadata": {},
     "output_type": "execute_result"
    }
   ],
   "source": [
    "#10. Program which can filter odd number in a list using filter function\n",
    "\n",
    "def is_odd(n):\n",
    "    if n%2!=0:\n",
    "        return True\n",
    "    else:\n",
    "        return False\n",
    "l=[1,2,3,4,5,6,7,8,9,10,11]\n",
    "list(filter(is_odd,l))"
   ]
  },
  {
   "cell_type": "code",
   "execution_count": 10,
   "metadata": {},
   "outputs": [
    {
     "data": {
      "text/plain": [
       "[8, 27, 64, 125, 216, 343, 512, 729, 1000]"
      ]
     },
     "execution_count": 10,
     "metadata": {},
     "output_type": "execute_result"
    }
   ],
   "source": [
    "#11. Program which can map()  to make list whose elements are cube of elements in a given list\n",
    "\n",
    "\n",
    "def cube(x):\n",
    "    return x*x*x\n",
    "l=range(2,11)\n",
    "list(map(cube,l))"
   ]
  },
  {
   "cell_type": "code",
   "execution_count": 5,
   "metadata": {},
   "outputs": [
    {
     "data": {
      "text/plain": [
       "(8, 64, 216, 512)"
      ]
     },
     "execution_count": 5,
     "metadata": {},
     "output_type": "execute_result"
    }
   ],
   "source": [
    "#12. Program which can map() and filter() to make list whose elements are cube of even numbers in a given list\n",
    "\n",
    "def evennumber(x):\n",
    "    if x%2==0:\n",
    "        return True\n",
    "    else:\n",
    "        return False\n",
    "li=[2,3,4,5,6,7,8]\n",
    "f=tuple(filter(evennumber,li))\n",
    "def cubeofeven(x):\n",
    "    return x*x*x\n",
    "m=f\n",
    "tuple(map(cubeofeven,m))"
   ]
  },
  {
   "cell_type": "code",
   "execution_count": 11,
   "metadata": {},
   "outputs": [
    {
     "name": "stdout",
     "output_type": "stream",
     "text": [
      "Enter the number28\n",
      "28 It is a perfect number\n"
     ]
    }
   ],
   "source": [
    "#13. Program to print all perfect number in a given range\n",
    "\n",
    "m=int(input('Enter the number'))\n",
    "def printdivisor(n):\n",
    "    sum=0\n",
    "    for i in range (1,n):\n",
    "        if (n%i==0):\n",
    "            sum+=i\n",
    "            i+=1\n",
    "    return sum\n",
    "m1= printdivisor(m)\n",
    "if m1==m:\n",
    "      print(m,'It is a perfect number')\n",
    "else:\n",
    "      print(m,'It is not a perfect number')"
   ]
  },
  {
   "cell_type": "code",
   "execution_count": 13,
   "metadata": {},
   "outputs": [
    {
     "name": "stdout",
     "output_type": "stream",
     "text": [
      "Enter the stringB4A1D3\n",
      "6\n",
      "Special Character\n",
      "Special Character\n",
      "Special Character\n",
      "['A', 'B', 'D']\n",
      "ABD134\n"
     ]
    }
   ],
   "source": [
    "#14. Here is the string present B4A1D3 the requirement is to segregate the string to ABC134, using string operation.\n",
    "\n",
    "st=input('Enter the string')\n",
    "l=len(st)\n",
    "print(l)\n",
    "i=0\n",
    "out=''\n",
    "put=''\n",
    "output=''\n",
    "while i<l:\n",
    "    if st[i].isalpha():\n",
    "        out=out+st[i]\n",
    "    if st[i].isdigit():\n",
    "        put=put+st[i]\n",
    "    else:\n",
    "        print('Special Character')\n",
    "    i=i+1\n",
    "sorted1 = sorted(out)\n",
    "sorted2 = sorted(put)\n",
    "print(sorted1)\n",
    "out=\"\".join(sorted1)\n",
    "put=\"\".join(sorted2)\n",
    "output=out+put\n",
    "print(output)"
   ]
  },
  {
   "cell_type": "code",
   "execution_count": null,
   "metadata": {},
   "outputs": [],
   "source": []
  }
 ],
 "metadata": {
  "kernelspec": {
   "display_name": "Python 3",
   "language": "python",
   "name": "python3"
  },
  "language_info": {
   "codemirror_mode": {
    "name": "ipython",
    "version": 3
   },
   "file_extension": ".py",
   "mimetype": "text/x-python",
   "name": "python",
   "nbconvert_exporter": "python",
   "pygments_lexer": "ipython3",
   "version": "3.7.6"
  }
 },
 "nbformat": 4,
 "nbformat_minor": 4
}
