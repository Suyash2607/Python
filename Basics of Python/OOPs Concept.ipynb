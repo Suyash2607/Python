{
 "cells": [
  {
   "cell_type": "code",
   "execution_count": 1,
   "metadata": {},
   "outputs": [
    {
     "data": {
      "text/plain": [
       "50.0"
      ]
     },
     "execution_count": 1,
     "metadata": {},
     "output_type": "execute_result"
    }
   ],
   "source": [
    "def ctof(c):\n",
    "    f= (c*9/5)+32\n",
    "    return f\n",
    "ctof(10)"
   ]
  },
  {
   "cell_type": "code",
   "execution_count": 2,
   "metadata": {},
   "outputs": [
    {
     "name": "stdout",
     "output_type": "stream",
     "text": [
      "50.0\n"
     ]
    }
   ],
   "source": [
    "class CtoF:\n",
    "    def __init__(self,c):\n",
    "        self.c=c\n",
    "    def ctof(self):\n",
    "        f=(self.c*9/5)+32\n",
    "        print(f)\n",
    "\n",
    "c1= CtoF(10)\n",
    "c1.ctof()"
   ]
  },
  {
   "cell_type": "code",
   "execution_count": 8,
   "metadata": {},
   "outputs": [
    {
     "name": "stdout",
     "output_type": "stream",
     "text": [
      "Suyash\n",
      "2699\n",
      "10000\n"
     ]
    }
   ],
   "source": [
    "class Employee:\n",
    "    def __init__(self,name,empid,salary):\n",
    "        self.name = 'Suyash'\n",
    "        self.empid = 2699\n",
    "        self.salary = 10000\n",
    "    \n",
    "    def talk(self):\n",
    "        print(self.name)\n",
    "        print(self.empid)\n",
    "        print(self.salary)\n",
    "        \n",
    "emp1= Employee('A',323,12323)\n",
    "emp1.talk()"
   ]
  },
  {
   "cell_type": "code",
   "execution_count": 9,
   "metadata": {},
   "outputs": [
    {
     "name": "stdout",
     "output_type": "stream",
     "text": [
      "A\n",
      "323\n",
      "12323\n"
     ]
    }
   ],
   "source": [
    "class Employee:\n",
    "    def __init__(self,name,empid,salary):\n",
    "        self.name = name\n",
    "        self.empid = empid\n",
    "        self.salary = salary\n",
    "    \n",
    "    def talk(self):\n",
    "        print(self.name)\n",
    "        print(self.empid)\n",
    "        print(self.salary)\n",
    "        \n",
    "emp1= Employee('A',323,12323)\n",
    "emp1.talk()"
   ]
  },
  {
   "cell_type": "code",
   "execution_count": 10,
   "metadata": {},
   "outputs": [
    {
     "name": "stdout",
     "output_type": "stream",
     "text": [
      "200\n"
     ]
    }
   ],
   "source": [
    "#__init__ \n",
    "    #Constructor - It is a special method in python \n",
    "    #The name of the constuctor _init_ \n",
    "    #Constructor executed automatically when we are creating an object \n",
    "    #Constructor will execute only once per object \n",
    "    #Constructor should take atleast one arguement i.e. self \n",
    "    \n",
    "\n",
    "#Self - \n",
    "    #Python provided implicit default variaPle which always pointing to current object \n",
    "    #By using self we can access variables , methods of corresponding object \n",
    "    #In constructor self should be the first arguement \n",
    "\n",
    "                          \n",
    "class Area:\n",
    "    def __init__ (self,length,breadth):\n",
    "        self.len = length\n",
    "        self.bre = breadth\n",
    "        \n",
    "    def area_rec(self):\n",
    "        print(self.len*self.bre)\n",
    "\n",
    "a= Area(10,20)\n",
    "a.area_rec()"
   ]
  },
  {
   "cell_type": "code",
   "execution_count": null,
   "metadata": {},
   "outputs": [],
   "source": [
    "#Different types of Variable\n",
    "  #1. Instance Variable - (Object level) \n",
    "      #(a). If the value of a variable is varying from object to object\n",
    "      #(b). A seperate copy of variable is created for every object\n",
    "  #2. Static Variable - (class level variable) it is specific to the class\n",
    "  #3. Local Variable - (method level)"
   ]
  },
  {
   "cell_type": "code",
   "execution_count": 2,
   "metadata": {},
   "outputs": [
    {
     "data": {
      "text/plain": [
       "mappingproxy({'__module__': '__main__',\n",
       "              'a': 20,\n",
       "              '__init__': <function __main__.Test.__init__(self)>,\n",
       "              'm1': <function __main__.Test.m1(self)>,\n",
       "              '__dict__': <attribute '__dict__' of 'Test' objects>,\n",
       "              '__weakref__': <attribute '__weakref__' of 'Test' objects>,\n",
       "              '__doc__': None,\n",
       "              'b': 10,\n",
       "              'c': 30})"
      ]
     },
     "execution_count": 2,
     "metadata": {},
     "output_type": "execute_result"
    }
   ],
   "source": [
    "#Static Variable examples\n",
    "\n",
    "class Test:\n",
    "    a= 20\n",
    "    \n",
    "    def __init__(self):\n",
    "        Test.b = 10\n",
    "        \n",
    "    def m1(self):\n",
    "        Test.c = 30\n",
    "    \n",
    "t= Test()\n",
    "Test.__dict__\n",
    "t.m1()\n",
    "Test.__dict__"
   ]
  },
  {
   "cell_type": "code",
   "execution_count": 3,
   "metadata": {},
   "outputs": [
    {
     "data": {
      "text/plain": [
       "888"
      ]
     },
     "execution_count": 3,
     "metadata": {},
     "output_type": "execute_result"
    }
   ],
   "source": [
    "class Test:\n",
    "    a=888\n",
    "    def __init__(self):\n",
    "        self.a=777\n",
    "t= Test()\n",
    "\n",
    "Test.__dict__\n",
    "t.__dict__\n",
    "\n",
    "Test.a\n",
    "        "
   ]
  },
  {
   "cell_type": "code",
   "execution_count": 6,
   "metadata": {},
   "outputs": [
    {
     "name": "stdout",
     "output_type": "stream",
     "text": [
      "10\n",
      "10\n"
     ]
    },
    {
     "data": {
      "text/plain": [
       "10"
      ]
     },
     "execution_count": 6,
     "metadata": {},
     "output_type": "execute_result"
    }
   ],
   "source": [
    "#How to access the static variable\n",
    "\n",
    "   #1. Inside the constructor \n",
    "class Test:\n",
    "    a= 10\n",
    "    def __init__(self):\n",
    "        print(Test.a)\n",
    "        \n",
    "  #2. Inside the Instance method\n",
    "    def m1(self):\n",
    "        print(Test.a)\n",
    "        \n",
    "  #3. Outside the class\n",
    "t= Test()\n",
    "t.m1()\n",
    "Test.a"
   ]
  },
  {
   "cell_type": "code",
   "execution_count": null,
   "metadata": {},
   "outputs": [],
   "source": [
    "#Where can i modify the static variable\n",
    "    #by using the class name (Inside or Outside the class)"
   ]
  },
  {
   "cell_type": "code",
   "execution_count": 10,
   "metadata": {},
   "outputs": [
    {
     "data": {
      "text/plain": [
       "mappingproxy({'__module__': '__main__',\n",
       "              'a': 2000,\n",
       "              '__init__': <function __main__.Test.__init__(self)>,\n",
       "              'm1': <function __main__.Test.m1(Self)>,\n",
       "              '__dict__': <attribute '__dict__' of 'Test' objects>,\n",
       "              '__weakref__': <attribute '__weakref__' of 'Test' objects>,\n",
       "              '__doc__': None})"
      ]
     },
     "execution_count": 10,
     "metadata": {},
     "output_type": "execute_result"
    }
   ],
   "source": [
    "class Test:\n",
    "    a= 10\n",
    "    def __init__(self):\n",
    "        Test.a = 999\n",
    "        \n",
    "    def m1(Self):\n",
    "        Test.a = 1000\n",
    "    \n",
    "Test.__dict__\n",
    "t= Test()\n",
    "Test.__dict__\n",
    "t.m1()\n",
    "Test.__dict__\n",
    "Test.a=2000\n",
    "Test.__dict__"
   ]
  },
  {
   "cell_type": "code",
   "execution_count": 13,
   "metadata": {},
   "outputs": [
    {
     "name": "stdout",
     "output_type": "stream",
     "text": [
      "Hi Suyash\n",
      "Your marks is: 85\n",
      "You got excellent marks\n"
     ]
    }
   ],
   "source": [
    "class Student:\n",
    "    def __init__(self, name, marks):\n",
    "        self.name = name\n",
    "        self.marks = marks\n",
    "        \n",
    "    def display(self):\n",
    "        print('Hi', self.name)\n",
    "        print('Your marks is:', self.marks)\n",
    "        \n",
    "    def grade(self):\n",
    "        if self.marks <35:\n",
    "            print('You failed the exam')\n",
    "        elif self.marks >=35 and self.marks <=65:\n",
    "            print('You got average marks')\n",
    "        else:\n",
    "            print('You got excellent marks')\n",
    "            \n",
    "s= Student(\"Suyash\", 85)\n",
    "s.display()\n",
    "s.grade()"
   ]
  },
  {
   "cell_type": "code",
   "execution_count": 14,
   "metadata": {},
   "outputs": [
    {
     "name": "stdout",
     "output_type": "stream",
     "text": [
      "Hi Suyash\n",
      "Your marks is: 85\n",
      "You got excellent marks\n"
     ]
    }
   ],
   "source": [
    "class Student:\n",
    "    def __init__(self, name, marks):\n",
    "        self.name = name\n",
    "        self.marks = marks\n",
    "        self.display()\n",
    "        \n",
    "    def display(self):\n",
    "        print('Hi', self.name)\n",
    "        print('Your marks is:', self.marks)\n",
    "        self.grade()\n",
    "        \n",
    "    def grade(self):\n",
    "        if self.marks <35:\n",
    "            print('You failed the exam')\n",
    "        elif self.marks >=35 and self.marks <=65:\n",
    "            print('You got average marks')\n",
    "        else:\n",
    "            print('You got excellent marks')\n",
    "            \n",
    "s= Student(\"Suyash\", 85)\n"
   ]
  },
  {
   "cell_type": "code",
   "execution_count": 16,
   "metadata": {},
   "outputs": [
    {
     "name": "stdout",
     "output_type": "stream",
     "text": [
      "the sum is: 30\n",
      "The product is: 200\n",
      "The average is: 15.0\n"
     ]
    }
   ],
   "source": [
    "#static method \n",
    "\n",
    "class Math:\n",
    "    def add(x,y):\n",
    "        print('the sum is:', x+y)\n",
    "        \n",
    "    def product(x,y):\n",
    "        print('The product is:', x*y)\n",
    "        \n",
    "    def average(x,y):\n",
    "        print('The average is:', (x+y)/2)\n",
    "        \n",
    "Math.add(10,20)\n",
    "Math.product(10,20)\n",
    "Math.average(10,20)"
   ]
  },
  {
   "cell_type": "code",
   "execution_count": 18,
   "metadata": {},
   "outputs": [
    {
     "name": "stdout",
     "output_type": "stream",
     "text": [
      "26\n",
      "Suyash\n",
      "5000\n",
      "26\n",
      "Suyash\n",
      "20000\n"
     ]
    }
   ],
   "source": [
    "class Employee:\n",
    "    def __init__(self, eno, ename,esal):\n",
    "        self.eno = eno\n",
    "        self.ename = ename\n",
    "        self.esal = esal\n",
    "        \n",
    "    def display(self):\n",
    "        print(self.eno)\n",
    "        print(self.ename)\n",
    "        print(self.esal)\n",
    "    \n",
    "class Test:\n",
    "    def modify(emp):\n",
    "        emp.esal = emp.esal+ 15000\n",
    "        emp.display()\n",
    "        \n",
    "e = Employee(26,'Suyash', 5000)\n",
    "e.display()\n",
    "Test.modify(e)"
   ]
  },
  {
   "cell_type": "code",
   "execution_count": 21,
   "metadata": {},
   "outputs": [
    {
     "name": "stdout",
     "output_type": "stream",
     "text": [
      "This is Outer class\n",
      "This is Inner class object\n",
      "Inner class method\n"
     ]
    }
   ],
   "source": [
    "\n",
    "class Outer:\n",
    "    def __init__(self):\n",
    "        print('This is Outer class')\n",
    "        \n",
    "    class Inner:\n",
    "        def __init__(self):\n",
    "            print('This is Inner class object')\n",
    "\n",
    "        def m1(self):\n",
    "            print('Inner class method')\n",
    "            \n",
    "o = Outer()\n",
    "i = o.Inner()\n",
    "i.m1()"
   ]
  },
  {
   "cell_type": "code",
   "execution_count": 25,
   "metadata": {},
   "outputs": [
    {
     "name": "stdout",
     "output_type": "stream",
     "text": [
      "Hello Suyash\n",
      "Talking\n",
      "Thinking\n"
     ]
    }
   ],
   "source": [
    "#Class inside Class\n",
    "\n",
    "class Human:\n",
    "    def __init__(self):\n",
    "        self.name = 'Suyash'\n",
    "        self.head = self.Head()\n",
    "        self.brain = self.head.Brain()\n",
    "        \n",
    "    def display(self):\n",
    "        print('Hello', self.name)\n",
    "        self.head.talk()\n",
    "        self.brain.think()\n",
    "        \n",
    "    class Head:\n",
    "        def talk(self):\n",
    "            print('Talking')\n",
    "            \n",
    "        class Brain:\n",
    "            def think(self):\n",
    "                print('Thinking')\n",
    "\n",
    "h= Human()\n",
    "h.display()     "
   ]
  },
  {
   "cell_type": "code",
   "execution_count": 26,
   "metadata": {},
   "outputs": [
    {
     "name": "stdout",
     "output_type": "stream",
     "text": [
      "Parent class method\n"
     ]
    }
   ],
   "source": [
    "#Inheritance - Single Level \n",
    "\n",
    "class P:\n",
    "    def m1(self):\n",
    "        print('Parent class method')\n",
    "        \n",
    "class C(P):\n",
    "    pass\n",
    "\n",
    "c= C()\n",
    "c.m1()"
   ]
  },
  {
   "cell_type": "code",
   "execution_count": 28,
   "metadata": {},
   "outputs": [
    {
     "name": "stdout",
     "output_type": "stream",
     "text": [
      "Parent class method\n"
     ]
    },
    {
     "data": {
      "text/plain": [
       "10"
      ]
     },
     "execution_count": 28,
     "metadata": {},
     "output_type": "execute_result"
    }
   ],
   "source": [
    "class P:\n",
    "    a= 10\n",
    "    def m1(self):\n",
    "        print('Parent class method')\n",
    "        \n",
    "class C(P):\n",
    "    pass\n",
    "\n",
    "c= C()\n",
    "c.m1()\n",
    "c.a"
   ]
  },
  {
   "cell_type": "code",
   "execution_count": 29,
   "metadata": {},
   "outputs": [
    {
     "name": "stdout",
     "output_type": "stream",
     "text": [
      "Parent class method\n",
      "Child class method\n",
      "Sub Child class method\n"
     ]
    }
   ],
   "source": [
    "#Inheritance - Multi-Level Inheritance \n",
    "\n",
    "class P:\n",
    "    def m1(self):\n",
    "        print('Parent class method')\n",
    "        \n",
    "class C(P):\n",
    "    def m2(self):\n",
    "        print('Child class method')\n",
    "        \n",
    "class CC(C):\n",
    "    def m3(self):\n",
    "        print('Sub Child class method')\n",
    "\n",
    "cc= CC()\n",
    "cc.m1()\n",
    "cc.m2()\n",
    "cc.m3()"
   ]
  },
  {
   "cell_type": "code",
   "execution_count": 30,
   "metadata": {},
   "outputs": [
    {
     "name": "stdout",
     "output_type": "stream",
     "text": [
      "Parent class method\n",
      "Parent class method\n"
     ]
    }
   ],
   "source": [
    "#Inheritance - Hierarchical Inheritance \n",
    "\n",
    "class P:\n",
    "    def m1(self):\n",
    "        print('Parent class method')\n",
    "        \n",
    "class C1(P):\n",
    "    def m2(self):\n",
    "        print('Child 1 class method')\n",
    "    \n",
    "class C2(P):\n",
    "    def m3(self):\n",
    "        print('Child 2 class method')\n",
    "        \n",
    "\n",
    "c2= C2()\n",
    "c2.m1()\n",
    "c1 = C1()\n",
    "c1.m1()"
   ]
  },
  {
   "cell_type": "code",
   "execution_count": 31,
   "metadata": {},
   "outputs": [
    {
     "name": "stdout",
     "output_type": "stream",
     "text": [
      "Child class method\n",
      "Parent 2 method\n",
      "Parent 1 method\n"
     ]
    }
   ],
   "source": [
    "#Inheritance - Multiple Inheritance \n",
    "\n",
    "class P1:\n",
    "    def m1(self):\n",
    "        print('Parent 1 method')\n",
    "        \n",
    "class P2:\n",
    "    def m2(self):\n",
    "        print('Parent 2 method')\n",
    "    \n",
    "class C(P1,P2):\n",
    "    def m3(self):\n",
    "        print('Child class method')\n",
    "        \n",
    "\n",
    "c= C()\n",
    "c.m3()\n",
    "c.m2()\n",
    "c.m1()"
   ]
  },
  {
   "cell_type": "code",
   "execution_count": 32,
   "metadata": {},
   "outputs": [
    {
     "data": {
      "text/plain": [
       "[__main__.D, __main__.B, __main__.C, __main__.A, object]"
      ]
     },
     "execution_count": 32,
     "metadata": {},
     "output_type": "execute_result"
    }
   ],
   "source": [
    "#Inheritance - Hybrid Inheritance \n",
    "\n",
    "\n",
    "class A: pass\n",
    "class B(A): pass\n",
    "class C(A): pass\n",
    "class D(B,C): pass\n",
    "\n",
    "D.mro()"
   ]
  },
  {
   "cell_type": "code",
   "execution_count": 35,
   "metadata": {},
   "outputs": [
    {
     "name": "stdout",
     "output_type": "stream",
     "text": [
      "P\n"
     ]
    },
    {
     "data": {
      "text/plain": [
       "[__main__.P,\n",
       " __main__.X,\n",
       " __main__.A,\n",
       " __main__.Y,\n",
       " __main__.B,\n",
       " __main__.C,\n",
       " object]"
      ]
     },
     "execution_count": 35,
     "metadata": {},
     "output_type": "execute_result"
    }
   ],
   "source": [
    "class A:\n",
    "    def m1(self):\n",
    "        print('A')\n",
    "class B:\n",
    "    def m1(self):\n",
    "        print('B')\n",
    "class C:\n",
    "    def m1(self):\n",
    "        print('C')\n",
    "class X(A,B):\n",
    "    def m1(self):\n",
    "        print('X')\n",
    "class Y(B,C):\n",
    "    def m1(self):\n",
    "        print('Y')\n",
    "class P(X,Y,C):\n",
    "    def m1(self):\n",
    "        print('P')\n",
    "        \n",
    "p=P()\n",
    "p.m1()\n",
    "P.mro()"
   ]
  },
  {
   "cell_type": "code",
   "execution_count": 37,
   "metadata": {},
   "outputs": [
    {
     "data": {
      "text/plain": [
       "[__main__.P,\n",
       " __main__.X,\n",
       " __main__.A,\n",
       " __main__.Y,\n",
       " __main__.B,\n",
       " __main__.C,\n",
       " object]"
      ]
     },
     "execution_count": 37,
     "metadata": {},
     "output_type": "execute_result"
    }
   ],
   "source": [
    "A.mro()\n",
    "B.mro()\n",
    "C.mro()\n",
    "X.mro()\n",
    "Y.mro()\n",
    "P.mro()\n",
    "\n",
    "How??\n",
    "\n",
    "'''C3 LINEARIZATION ALGORITHM BY - Samuel Padroni'''\n",
    "\n",
    "#MRO(P) = P + merge(MRO(P1), MRO(P2), MRO(P3).....PARENT LIST P1P2P3)\n",
    "\n",
    "#MRO(P) = P + merge(MRO(X), MRO(Y), MRO(C),XYC)\n",
    "#MRO(P) = P + merge(XABO, YBCO, CO, XYC)\n",
    "#MRO(P) = P + X + merge(ABO, YBCO, CO, YC)\n",
    "#MRO(P) = P + X + A + merge(BO, YBCO, CO, YC)\n",
    "#MRO(P) = P + X + A + Y + merge(BO, BCO, CO, C)\n",
    "#MRO(P) = P + X + A + Y + B + merge(O, CO, CO, C)\n",
    "#MRO(P) = P + X + A + Y + B + C + merge(O, O, O)\n",
    "#MRO(P) = P + X + A + Y + B + C + O"
   ]
  },
  {
   "cell_type": "code",
   "execution_count": 43,
   "metadata": {},
   "outputs": [
    {
     "name": "stdout",
     "output_type": "stream",
     "text": [
      "100\n",
      "20\n",
      "Parent instance method\n",
      "Parent static method\n"
     ]
    }
   ],
   "source": [
    "#Super() -  is used to call parent class constructor, methods and variables from the child class\n",
    "\n",
    "class P:\n",
    "    a= 100\n",
    "    def __init__(self):\n",
    "        self.b = 20\n",
    "        \n",
    "    def m1(self):\n",
    "        print('Parent instance method')\n",
    "        \n",
    "    @staticmethod\n",
    "    def m2():\n",
    "        print('Parent static method')\n",
    "        \n",
    "class C(P):\n",
    "    a = 10001\n",
    "    def __init__(self):\n",
    "        self.b = 9090\n",
    "        super().__init__()\n",
    "        print(super().a)\n",
    "        print(self.b)\n",
    "        super().m1()\n",
    "        super().m2()\n",
    "    \n",
    "c= C()"
   ]
  },
  {
   "cell_type": "code",
   "execution_count": 45,
   "metadata": {},
   "outputs": [
    {
     "name": "stdout",
     "output_type": "stream",
     "text": [
      "300\n"
     ]
    }
   ],
   "source": [
    "#POLYMORPHISM - Poly means 'many' and morph means 'form'. Polymorphism is possible through magic method\n",
    "\n",
    "class Book:\n",
    "    def __init__(self, pages):\n",
    "        self.pages = pages\n",
    "        \n",
    "    def __add__(self, other):\n",
    "        return self.pages + other.pages\n",
    "\n",
    "b1 = Book(100)\n",
    "b2 = Book(200)\n",
    "print(b1 + b2)"
   ]
  },
  {
   "cell_type": "code",
   "execution_count": 44,
   "metadata": {},
   "outputs": [
    {
     "data": {
      "text/plain": [
       "['__abs__',\n",
       " '__add__',\n",
       " '__and__',\n",
       " '__bool__',\n",
       " '__ceil__',\n",
       " '__class__',\n",
       " '__delattr__',\n",
       " '__dir__',\n",
       " '__divmod__',\n",
       " '__doc__',\n",
       " '__eq__',\n",
       " '__float__',\n",
       " '__floor__',\n",
       " '__floordiv__',\n",
       " '__format__',\n",
       " '__ge__',\n",
       " '__getattribute__',\n",
       " '__getnewargs__',\n",
       " '__gt__',\n",
       " '__hash__',\n",
       " '__index__',\n",
       " '__init__',\n",
       " '__init_subclass__',\n",
       " '__int__',\n",
       " '__invert__',\n",
       " '__le__',\n",
       " '__lshift__',\n",
       " '__lt__',\n",
       " '__mod__',\n",
       " '__mul__',\n",
       " '__ne__',\n",
       " '__neg__',\n",
       " '__new__',\n",
       " '__or__',\n",
       " '__pos__',\n",
       " '__pow__',\n",
       " '__radd__',\n",
       " '__rand__',\n",
       " '__rdivmod__',\n",
       " '__reduce__',\n",
       " '__reduce_ex__',\n",
       " '__repr__',\n",
       " '__rfloordiv__',\n",
       " '__rlshift__',\n",
       " '__rmod__',\n",
       " '__rmul__',\n",
       " '__ror__',\n",
       " '__round__',\n",
       " '__rpow__',\n",
       " '__rrshift__',\n",
       " '__rshift__',\n",
       " '__rsub__',\n",
       " '__rtruediv__',\n",
       " '__rxor__',\n",
       " '__setattr__',\n",
       " '__sizeof__',\n",
       " '__str__',\n",
       " '__sub__',\n",
       " '__subclasshook__',\n",
       " '__truediv__',\n",
       " '__trunc__',\n",
       " '__xor__',\n",
       " 'bit_length',\n",
       " 'conjugate',\n",
       " 'denominator',\n",
       " 'from_bytes',\n",
       " 'imag',\n",
       " 'numerator',\n",
       " 'real',\n",
       " 'to_bytes']"
      ]
     },
     "execution_count": 44,
     "metadata": {},
     "output_type": "execute_result"
    }
   ],
   "source": [
    "#Magic mathed \n",
    "\n",
    "dir(int) "
   ]
  },
  {
   "cell_type": "code",
   "execution_count": 46,
   "metadata": {},
   "outputs": [
    {
     "name": "stdout",
     "output_type": "stream",
     "text": [
      "650\n"
     ]
    }
   ],
   "source": [
    "class Book:\n",
    "    def __init__(self, pages):\n",
    "        self.pages = pages\n",
    "        \n",
    "    def __add__(self, other):\n",
    "        total = self.pages + other.pages\n",
    "        return Book(total)\n",
    "    \n",
    "    def __str__(self):\n",
    "        return str(self.pages)\n",
    "\n",
    "b1 = Book(100)\n",
    "b2 = Book(200)\n",
    "b3 = Book(300)\n",
    "b4 = Book(50)\n",
    "print(b1 + b2 + b3 + b4)"
   ]
  },
  {
   "cell_type": "code",
   "execution_count": 47,
   "metadata": {
    "scrolled": true
   },
   "outputs": [
    {
     "name": "stdout",
     "output_type": "stream",
     "text": [
      "Thr sum is 0\n",
      "Thr sum is 10\n",
      "Thr sum is 20\n"
     ]
    }
   ],
   "source": [
    "#Method Overloading - is not present in python but it can be achieved by variable length argumennt.\n",
    "                      #it takes only last method. \n",
    "    \n",
    "class Test:\n",
    "    def sum(self, * a):\n",
    "        total = 0\n",
    "        for x in a:\n",
    "            total = total + x\n",
    "        print('Thr sum is', total)\n",
    "\n",
    "t = Test()\n",
    "t.sum()\n",
    "t.sum(10)\n",
    "t.sum(10,10)\n"
   ]
  },
  {
   "cell_type": "code",
   "execution_count": 49,
   "metadata": {},
   "outputs": [
    {
     "name": "stdout",
     "output_type": "stream",
     "text": [
      "Gold, Cash, House\n",
      "A|B|C\n",
      "X|Y|Z\n"
     ]
    }
   ],
   "source": [
    "#Method Overriding\n",
    "\n",
    "class P:\n",
    "    def property(self):\n",
    "        print('Gold, Cash, House')\n",
    "    \n",
    "    def marriage(self):\n",
    "        print('A|B|C')\n",
    "        \n",
    "class C(P):\n",
    "    def marriage(self):\n",
    "        super().marriage()\n",
    "        print('X|Y|Z')\n",
    "\n",
    "c = C()\n",
    "c.property()\n",
    "c.marriage()"
   ]
  }
 ],
 "metadata": {
  "kernelspec": {
   "display_name": "Python 3",
   "language": "python",
   "name": "python3"
  },
  "language_info": {
   "codemirror_mode": {
    "name": "ipython",
    "version": 3
   },
   "file_extension": ".py",
   "mimetype": "text/x-python",
   "name": "python",
   "nbconvert_exporter": "python",
   "pygments_lexer": "ipython3",
   "version": "3.7.6"
  }
 },
 "nbformat": 4,
 "nbformat_minor": 4
}
