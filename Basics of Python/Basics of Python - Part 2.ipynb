{
 "cells": [
  {
   "cell_type": "code",
   "execution_count": 1,
   "metadata": {},
   "outputs": [],
   "source": [
    "#input and Output or I/O\n",
    "#Loops\n",
    "#Functions"
   ]
  },
  {
   "cell_type": "code",
   "execution_count": 2,
   "metadata": {},
   "outputs": [
    {
     "name": "stdout",
     "output_type": "stream",
     "text": [
      "please enter your nameSuyash Rastogi\n"
     ]
    }
   ],
   "source": [
    "name = input('please enter your name')"
   ]
  },
  {
   "cell_type": "code",
   "execution_count": 3,
   "metadata": {},
   "outputs": [
    {
     "data": {
      "text/plain": [
       "str"
      ]
     },
     "execution_count": 3,
     "metadata": {},
     "output_type": "execute_result"
    }
   ],
   "source": [
    "type (name)"
   ]
  },
  {
   "cell_type": "code",
   "execution_count": 5,
   "metadata": {},
   "outputs": [
    {
     "name": "stdout",
     "output_type": "stream",
     "text": [
      "enter your age28\n"
     ]
    }
   ],
   "source": [
    "age = input('enter your age')"
   ]
  },
  {
   "cell_type": "code",
   "execution_count": 6,
   "metadata": {},
   "outputs": [
    {
     "data": {
      "text/plain": [
       "str"
      ]
     },
     "execution_count": 6,
     "metadata": {},
     "output_type": "execute_result"
    }
   ],
   "source": [
    "type(age)"
   ]
  },
  {
   "cell_type": "code",
   "execution_count": 7,
   "metadata": {},
   "outputs": [
    {
     "name": "stdout",
     "output_type": "stream",
     "text": [
      "enter you age28\n"
     ]
    }
   ],
   "source": [
    "age=int(input('enter you age'))"
   ]
  },
  {
   "cell_type": "code",
   "execution_count": 8,
   "metadata": {
    "scrolled": true
   },
   "outputs": [
    {
     "data": {
      "text/plain": [
       "int"
      ]
     },
     "execution_count": 8,
     "metadata": {},
     "output_type": "execute_result"
    }
   ],
   "source": [
    "type (age)"
   ]
  },
  {
   "cell_type": "code",
   "execution_count": 9,
   "metadata": {},
   "outputs": [
    {
     "name": "stdout",
     "output_type": "stream",
     "text": [
      "enter numbers21 22 23 34 44 55 66\n"
     ]
    }
   ],
   "source": [
    "numbers = input('enter numbers').split()"
   ]
  },
  {
   "cell_type": "code",
   "execution_count": 10,
   "metadata": {},
   "outputs": [
    {
     "data": {
      "text/plain": [
       "['21', '22', '23', '34', '44', '55', '66']"
      ]
     },
     "execution_count": 10,
     "metadata": {},
     "output_type": "execute_result"
    }
   ],
   "source": [
    "numbers"
   ]
  },
  {
   "cell_type": "code",
   "execution_count": 11,
   "metadata": {},
   "outputs": [
    {
     "name": "stdout",
     "output_type": "stream",
     "text": [
      "enter 5 numbers11 22 33 44 55 666 66\n"
     ]
    }
   ],
   "source": [
    "numbers = input('enter 5 numbers').split()"
   ]
  },
  {
   "cell_type": "code",
   "execution_count": 12,
   "metadata": {},
   "outputs": [
    {
     "data": {
      "text/plain": [
       "['11', '22', '33', '44', '55', '666', '66']"
      ]
     },
     "execution_count": 12,
     "metadata": {},
     "output_type": "execute_result"
    }
   ],
   "source": [
    "numbers"
   ]
  },
  {
   "cell_type": "code",
   "execution_count": 13,
   "metadata": {},
   "outputs": [
    {
     "name": "stdout",
     "output_type": "stream",
     "text": [
      "enter numbers11:22:33:44:55:56:66\n"
     ]
    }
   ],
   "source": [
    "a= [int(x) for x in input('enter numbers').split(':')]"
   ]
  },
  {
   "cell_type": "code",
   "execution_count": 14,
   "metadata": {},
   "outputs": [
    {
     "data": {
      "text/plain": [
       "[11, 22, 33, 44, 55, 56, 66]"
      ]
     },
     "execution_count": 14,
     "metadata": {},
     "output_type": "execute_result"
    }
   ],
   "source": [
    "a"
   ]
  },
  {
   "cell_type": "code",
   "execution_count": 16,
   "metadata": {},
   "outputs": [
    {
     "data": {
      "text/plain": [
       "287"
      ]
     },
     "execution_count": 16,
     "metadata": {},
     "output_type": "execute_result"
    }
   ],
   "source": [
    "sum(a)"
   ]
  },
  {
   "cell_type": "code",
   "execution_count": 17,
   "metadata": {},
   "outputs": [
    {
     "data": {
      "text/plain": [
       "list"
      ]
     },
     "execution_count": 17,
     "metadata": {},
     "output_type": "execute_result"
    }
   ],
   "source": [
    "type(a)"
   ]
  },
  {
   "cell_type": "code",
   "execution_count": 24,
   "metadata": {},
   "outputs": [
    {
     "name": "stdout",
     "output_type": "stream",
     "text": [
      "name, age, salary, MSSuyash, 28, 5.28, False\n"
     ]
    }
   ],
   "source": [
    "details = input('name, age, salary, MS').split(',')"
   ]
  },
  {
   "cell_type": "code",
   "execution_count": 25,
   "metadata": {},
   "outputs": [
    {
     "data": {
      "text/plain": [
       "['Suyash', ' 28', ' 5.28', ' False']"
      ]
     },
     "execution_count": 25,
     "metadata": {},
     "output_type": "execute_result"
    }
   ],
   "source": [
    "details"
   ]
  },
  {
   "cell_type": "code",
   "execution_count": 27,
   "metadata": {},
   "outputs": [
    {
     "name": "stdout",
     "output_type": "stream",
     "text": [
      "name, age, salary, MS'Suyash', 28, 5.28, False\n"
     ]
    }
   ],
   "source": [
    "details = [eval(x) for x in input('name, age, salary, MS').split(',')]"
   ]
  },
  {
   "cell_type": "code",
   "execution_count": 28,
   "metadata": {},
   "outputs": [
    {
     "data": {
      "text/plain": [
       "['Suyash', 28, 5.28, False]"
      ]
     },
     "execution_count": 28,
     "metadata": {},
     "output_type": "execute_result"
    }
   ],
   "source": [
    "details"
   ]
  },
  {
   "cell_type": "code",
   "execution_count": 34,
   "metadata": {},
   "outputs": [
    {
     "data": {
      "text/plain": [
       "float"
      ]
     },
     "execution_count": 34,
     "metadata": {},
     "output_type": "execute_result"
    }
   ],
   "source": [
    "type(details[2])"
   ]
  },
  {
   "cell_type": "code",
   "execution_count": 36,
   "metadata": {},
   "outputs": [
    {
     "name": "stdout",
     "output_type": "stream",
     "text": [
      "hello\n"
     ]
    }
   ],
   "source": [
    "#OUTPUT\n",
    "print('hello')"
   ]
  },
  {
   "cell_type": "code",
   "execution_count": 37,
   "metadata": {},
   "outputs": [
    {
     "name": "stdout",
     "output_type": "stream",
     "text": [
      "hello\n",
      "\n",
      "Suyash\n"
     ]
    }
   ],
   "source": [
    "print('hello')\n",
    "print()\n",
    "print('Suyash')"
   ]
  },
  {
   "cell_type": "code",
   "execution_count": 40,
   "metadata": {},
   "outputs": [
    {
     "name": "stdout",
     "output_type": "stream",
     "text": [
      "hello \n",
      " all\n"
     ]
    }
   ],
   "source": [
    "print('hello \\n all')"
   ]
  },
  {
   "cell_type": "code",
   "execution_count": 41,
   "metadata": {},
   "outputs": [
    {
     "name": "stdout",
     "output_type": "stream",
     "text": [
      "hello \t all\n"
     ]
    }
   ],
   "source": [
    "print('hello \\t all')"
   ]
  },
  {
   "cell_type": "code",
   "execution_count": 47,
   "metadata": {},
   "outputs": [
    {
     "name": "stdout",
     "output_type": "stream",
     "text": [
      "Suyash   Rastogi\n"
     ]
    }
   ],
   "source": [
    "print('Suyash'+' '+'Rastogi')"
   ]
  },
  {
   "cell_type": "code",
   "execution_count": 50,
   "metadata": {},
   "outputs": [
    {
     "name": "stdout",
     "output_type": "stream",
     "text": [
      "Values: 10 20 30\n"
     ]
    }
   ],
   "source": [
    "#FORM\n",
    "\n",
    "a, b, c = 10,20,30 \n",
    "print('Values:', a, b, c)"
   ]
  },
  {
   "cell_type": "code",
   "execution_count": 51,
   "metadata": {},
   "outputs": [
    {
     "name": "stdout",
     "output_type": "stream",
     "text": [
      "10,20,30\n"
     ]
    }
   ],
   "source": [
    "print(a,b,c,sep=',')"
   ]
  },
  {
   "cell_type": "code",
   "execution_count": 56,
   "metadata": {},
   "outputs": [
    {
     "name": "stdout",
     "output_type": "stream",
     "text": [
      "Hello Student welcome to the class "
     ]
    }
   ],
   "source": [
    "print('Hello', end=' ')\n",
    "print('Student', end=' ')\n",
    "print('welcome to the class', end=' ')"
   ]
  },
  {
   "cell_type": "code",
   "execution_count": 57,
   "metadata": {},
   "outputs": [
    {
     "name": "stdout",
     "output_type": "stream",
     "text": [
      "10-20-30-40-50===="
     ]
    }
   ],
   "source": [
    "print(10,20,30,40,50,sep='-', end='====')"
   ]
  },
  {
   "cell_type": "code",
   "execution_count": 58,
   "metadata": {},
   "outputs": [],
   "source": [
    "list1=[1,2,3,4]\n",
    "tuple1= (5,6,7,8)\n",
    "set1={9,10,11,12}"
   ]
  },
  {
   "cell_type": "code",
   "execution_count": 59,
   "metadata": {},
   "outputs": [
    {
     "name": "stdout",
     "output_type": "stream",
     "text": [
      "[1, 2, 3, 4]\n",
      "(5, 6, 7, 8)\n",
      "{9, 10, 11, 12}\n"
     ]
    }
   ],
   "source": [
    "print(list1)\n",
    "print(tuple1)\n",
    "print(set1)"
   ]
  },
  {
   "cell_type": "code",
   "execution_count": 60,
   "metadata": {},
   "outputs": [
    {
     "name": "stdout",
     "output_type": "stream",
     "text": [
      "[1, 2, 3, 4]\n",
      "(5, 6, 7, 8)\n",
      "{9, 10, 11, 12}\n"
     ]
    }
   ],
   "source": [
    "print(list1, sep=':')\n",
    "print(tuple1, sep=':')\n",
    "print(set1, sep=':')"
   ]
  },
  {
   "cell_type": "code",
   "execution_count": 61,
   "metadata": {},
   "outputs": [
    {
     "name": "stdout",
     "output_type": "stream",
     "text": [
      "[1, 2, 3, 4]:(5, 6, 7, 8):{9, 10, 11, 12}:"
     ]
    }
   ],
   "source": [
    "print(list1, end=':')\n",
    "print(tuple1, end=':')\n",
    "print(set1, end=':')"
   ]
  },
  {
   "cell_type": "code",
   "execution_count": 66,
   "metadata": {},
   "outputs": [
    {
     "name": "stdout",
     "output_type": "stream",
     "text": [
      "[1, 2, 3, 4]=(5, 6, 7, 8)={9, 10, 11, 12}\n"
     ]
    }
   ],
   "source": [
    "print(list1, tuple1, set1, sep='=')"
   ]
  },
  {
   "cell_type": "code",
   "execution_count": 79,
   "metadata": {},
   "outputs": [
    {
     "name": "stdout",
     "output_type": "stream",
     "text": [
      "The value of a is 10\n",
      "The value of c is 40.000000\n"
     ]
    }
   ],
   "source": [
    "a,b,c,d = 10.5,30,40,50\n",
    "print('The value of a is %i' %a)\n",
    "print('The value of c is %f' %c)\n"
   ]
  },
  {
   "cell_type": "code",
   "execution_count": 100,
   "metadata": {},
   "outputs": [
    {
     "name": "stdout",
     "output_type": "stream",
     "text": [
      "hello Suyash your salary is 10000 and your company is MRPL\n"
     ]
    }
   ],
   "source": [
    "name = 'Suyash'\n",
    "Salary = 10000\n",
    "Company = 'MRPL'\n",
    "\n",
    "print('hello', name, 'your salary is', Salary, 'and your company is', Company)"
   ]
  },
  {
   "cell_type": "code",
   "execution_count": 108,
   "metadata": {},
   "outputs": [
    {
     "name": "stdout",
     "output_type": "stream",
     "text": [
      "hello Suyash, your salary is 10000, and your company is MRPL\n"
     ]
    }
   ],
   "source": [
    "print('hello {}, your salary is {}, and your company is {}'.format(name, Salary, Company))"
   ]
  },
  {
   "cell_type": "code",
   "execution_count": 110,
   "metadata": {},
   "outputs": [
    {
     "name": "stdout",
     "output_type": "stream",
     "text": [
      "hello Suyash, your salary is 10000, and your company is MRPL\n"
     ]
    }
   ],
   "source": [
    "print('hello {0}, your salary is {1}, and your company is {2}'.format(name, Salary, Company))"
   ]
  },
  {
   "cell_type": "code",
   "execution_count": 112,
   "metadata": {},
   "outputs": [
    {
     "name": "stdout",
     "output_type": "stream",
     "text": [
      "hello Suyash, your salary is 10000, and your company is MRPL\n"
     ]
    }
   ],
   "source": [
    "print('hello {n}, your salary is {s}, and your company is {c}'.format(n=name, s=Salary, c=Company))"
   ]
  },
  {
   "cell_type": "code",
   "execution_count": null,
   "metadata": {},
   "outputs": [],
   "source": [
    "#flow Control\n",
    "#if else\n",
    "#for\n",
    "#while"
   ]
  },
  {
   "cell_type": "code",
   "execution_count": 114,
   "metadata": {},
   "outputs": [
    {
     "name": "stdout",
     "output_type": "stream",
     "text": [
      "enter yout marks36\n",
      "you passed the exam\n"
     ]
    }
   ],
   "source": [
    "marks = int(input('enter yout marks'))\n",
    "if marks>35:\n",
    "    print('you passed the exam')\n",
    "else:\n",
    "    print('your failed the exam')"
   ]
  },
  {
   "cell_type": "code",
   "execution_count": 117,
   "metadata": {},
   "outputs": [
    {
     "name": "stdout",
     "output_type": "stream",
     "text": [
      "enter yout marks55\n",
      "you got avarage marks\n"
     ]
    }
   ],
   "source": [
    "marks = int(input('enter yout marks'))\n",
    "if marks<35:\n",
    "    print('you passed the exam')\n",
    "elif marks>=35 and marks<=60:\n",
    "    print('you got avarage marks')\n",
    "else:\n",
    "    print('your got excellent marks')"
   ]
  },
  {
   "cell_type": "code",
   "execution_count": 121,
   "metadata": {},
   "outputs": [
    {
     "name": "stdout",
     "output_type": "stream",
     "text": [
      "enter the number34\n",
      "Even\n"
     ]
    }
   ],
   "source": [
    "x= int(input('enter the number'))\n",
    "if x%2==0:\n",
    "    print('Even')\n",
    "else:\n",
    "    print('odd')"
   ]
  },
  {
   "cell_type": "code",
   "execution_count": 123,
   "metadata": {},
   "outputs": [
    {
     "name": "stdout",
     "output_type": "stream",
     "text": [
      "R\n",
      "a\n",
      "h\n",
      "u\n",
      "l\n"
     ]
    }
   ],
   "source": [
    "#for loop\n",
    "x = 'Rahul'\n",
    "for a in x:\n",
    "    print(a)"
   ]
  },
  {
   "cell_type": "code",
   "execution_count": 127,
   "metadata": {},
   "outputs": [
    {
     "name": "stdout",
     "output_type": "stream",
     "text": [
      "0\n",
      "1\n",
      "1\n",
      "2\n",
      "2\n",
      "3\n",
      "3\n",
      "4\n",
      "4\n",
      "5\n",
      "5\n",
      "6\n",
      "6\n",
      "7\n",
      "7\n",
      "8\n",
      "8\n",
      "9\n",
      "9\n",
      "10\n",
      "10\n",
      "11\n",
      "11\n",
      "12\n",
      "12\n",
      "13\n",
      "13\n",
      "14\n",
      "14\n"
     ]
    }
   ],
   "source": [
    "name = 'Suyash Rastogi'\n",
    "count = 0\n",
    "for x in name:\n",
    "    print(count)\n",
    "    count = count + 1\n",
    "    print(count)\n",
    "    \n",
    "print(count)"
   ]
  },
  {
   "cell_type": "code",
   "execution_count": 133,
   "metadata": {},
   "outputs": [],
   "source": [
    "sales = [2324,5384,8983,9834]\n",
    "profit = [422,985,349,453]"
   ]
  },
  {
   "cell_type": "code",
   "execution_count": 135,
   "metadata": {},
   "outputs": [
    {
     "name": "stdout",
     "output_type": "stream",
     "text": [
      "0.18158347676419967\n",
      "0.18294947994056462\n",
      "0.038851163308471555\n",
      "0.0460646735814521\n"
     ]
    }
   ],
   "source": [
    "for x in range(0,len(sales)):\n",
    "    print(profit[x]/sales[x])"
   ]
  },
  {
   "cell_type": "code",
   "execution_count": 137,
   "metadata": {},
   "outputs": [
    {
     "name": "stdout",
     "output_type": "stream",
     "text": [
      "total coupons left are 5\n",
      "total coupons left are 4\n",
      "total coupons left are 3\n",
      "total coupons left are 2\n",
      "total coupons left are 1\n",
      "total coupons left are 0\n",
      "no coupons left\n"
     ]
    }
   ],
   "source": [
    "#While loop\n",
    "\n",
    "coupons = 5\n",
    "utilised = 0\n",
    "while utilised<6:\n",
    "    print('total coupons left are' , coupons-utilised)\n",
    "    utilised=utilised+1\n",
    "print('no coupons left')"
   ]
  },
  {
   "cell_type": "code",
   "execution_count": 156,
   "metadata": {},
   "outputs": [
    {
     "ename": "SyntaxError",
     "evalue": "invalid syntax (<ipython-input-156-bc68962005af>, line 2)",
     "output_type": "error",
     "traceback": [
      "\u001b[1;36m  File \u001b[1;32m\"<ipython-input-156-bc68962005af>\"\u001b[1;36m, line \u001b[1;32m2\u001b[0m\n\u001b[1;33m    Given an integer, , perform the following conditional actions:\u001b[0m\n\u001b[1;37m           ^\u001b[0m\n\u001b[1;31mSyntaxError\u001b[0m\u001b[1;31m:\u001b[0m invalid syntax\n"
     ]
    }
   ],
   "source": [
    "#Task\n",
    "Given an integer, , perform the following conditional actions:\n",
    "\n",
    "#If  is odd, print Weird\n",
    "#If  is even and in the inclusive range of  to , print Not Weird\n",
    "#If  is even and in the inclusive range of  to , print Weird\n",
    "#If  is even and greater than , print Not Weird\n"
   ]
  },
  {
   "cell_type": "code",
   "execution_count": 158,
   "metadata": {},
   "outputs": [
    {
     "name": "stdout",
     "output_type": "stream",
     "text": [
      "enter the number24\n",
      "Not Weird\n"
     ]
    }
   ],
   "source": [
    "n= int(input('enter the number'))\n",
    "if n%2:\n",
    "    print('Weird')\n",
    "elif 2<=n <=5:\n",
    "    print('Not Weird')\n",
    "elif 6 <= n <= 20:\n",
    "    print(\"Weird\")\n",
    "else:\n",
    "    print(\"Not Weird\")"
   ]
  },
  {
   "cell_type": "code",
   "execution_count": null,
   "metadata": {},
   "outputs": [],
   "source": []
  },
  {
   "cell_type": "code",
   "execution_count": null,
   "metadata": {},
   "outputs": [],
   "source": []
  },
  {
   "cell_type": "code",
   "execution_count": null,
   "metadata": {},
   "outputs": [],
   "source": []
  },
  {
   "cell_type": "code",
   "execution_count": null,
   "metadata": {},
   "outputs": [],
   "source": []
  }
 ],
 "metadata": {
  "kernelspec": {
   "display_name": "Python 3",
   "language": "python",
   "name": "python3"
  },
  "language_info": {
   "codemirror_mode": {
    "name": "ipython",
    "version": 3
   },
   "file_extension": ".py",
   "mimetype": "text/x-python",
   "name": "python",
   "nbconvert_exporter": "python",
   "pygments_lexer": "ipython3",
   "version": "3.7.6"
  }
 },
 "nbformat": 4,
 "nbformat_minor": 4
}
