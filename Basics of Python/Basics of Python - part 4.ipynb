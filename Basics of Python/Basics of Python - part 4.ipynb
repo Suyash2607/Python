{
 "cells": [
  {
   "cell_type": "code",
   "execution_count": null,
   "metadata": {},
   "outputs": [],
   "source": [
    "#Filter Function\n",
    "#Map Function\n",
    "#Reduce Function"
   ]
  },
  {
   "cell_type": "code",
   "execution_count": 1,
   "metadata": {},
   "outputs": [
    {
     "ename": "NameError",
     "evalue": "name 'func' is not defined",
     "output_type": "error",
     "traceback": [
      "\u001b[1;31m---------------------------------------------------------------------------\u001b[0m",
      "\u001b[1;31mNameError\u001b[0m                                 Traceback (most recent call last)",
      "\u001b[1;32m<ipython-input-1-8674df83913e>\u001b[0m in \u001b[0;36m<module>\u001b[1;34m\u001b[0m\n\u001b[1;32m----> 1\u001b[1;33m \u001b[0mfilter\u001b[0m\u001b[1;33m(\u001b[0m\u001b[0mfunc\u001b[0m\u001b[1;33m,\u001b[0m \u001b[0mlist\u001b[0m\u001b[1;33m)\u001b[0m\u001b[1;33m\u001b[0m\u001b[1;33m\u001b[0m\u001b[0m\n\u001b[0m",
      "\u001b[1;31mNameError\u001b[0m: name 'func' is not defined"
     ]
    }
   ],
   "source": [
    "filter(func, list)"
   ]
  },
  {
   "cell_type": "code",
   "execution_count": 9,
   "metadata": {},
   "outputs": [
    {
     "data": {
      "text/plain": [
       "[2, 4, 6, 8, 10]"
      ]
     },
     "execution_count": 9,
     "metadata": {},
     "output_type": "execute_result"
    }
   ],
   "source": [
    "#Filter Function\n",
    "\n",
    "def iseven(x):\n",
    "    if x%2 == 0:\n",
    "        return True\n",
    "    else:\n",
    "        False\n",
    "L=[2,3,4,5,6,7,8,9,10]\n",
    "list(filter(iseven,L))"
   ]
  },
  {
   "cell_type": "code",
   "execution_count": 10,
   "metadata": {},
   "outputs": [
    {
     "data": {
      "text/plain": [
       "[2, 4, 6, 8, 10]"
      ]
     },
     "execution_count": 10,
     "metadata": {},
     "output_type": "execute_result"
    }
   ],
   "source": [
    "list(filter(lambda x: x%2==0,L))"
   ]
  },
  {
   "cell_type": "code",
   "execution_count": 12,
   "metadata": {},
   "outputs": [
    {
     "data": {
      "text/plain": [
       "[4, 6, 8, 10, 12]"
      ]
     },
     "execution_count": 12,
     "metadata": {},
     "output_type": "execute_result"
    }
   ],
   "source": [
    "#Map Function\n",
    "\n",
    "def double(x):\n",
    "    return 2*x\n",
    "L =[2,3,4,5,6]\n",
    "list(map(double,L))"
   ]
  },
  {
   "cell_type": "code",
   "execution_count": 13,
   "metadata": {},
   "outputs": [
    {
     "data": {
      "text/plain": [
       "[4, 6, 8, 10, 12]"
      ]
     },
     "execution_count": 13,
     "metadata": {},
     "output_type": "execute_result"
    }
   ],
   "source": [
    "list(map(lambda x: 2*x,L))"
   ]
  },
  {
   "cell_type": "code",
   "execution_count": 15,
   "metadata": {},
   "outputs": [
    {
     "data": {
      "text/plain": [
       "[6, 14, 24, 36, 50]"
      ]
     },
     "execution_count": 15,
     "metadata": {},
     "output_type": "execute_result"
    }
   ],
   "source": [
    "List1=[1,2,3,4,5]\n",
    "List2=[6,7,8,9,10]\n",
    "list(map(lambda x,y: x*y,List1, List2))"
   ]
  },
  {
   "cell_type": "code",
   "execution_count": 18,
   "metadata": {},
   "outputs": [
    {
     "data": {
      "text/plain": [
       "150"
      ]
     },
     "execution_count": 18,
     "metadata": {},
     "output_type": "execute_result"
    }
   ],
   "source": [
    "#Reduce Functions\n",
    "\n",
    "from functools import *\n",
    "list1=[10,20,30,40,50]\n",
    "reduce(lambda x,y: x+y,list1)"
   ]
  },
  {
   "cell_type": "code",
   "execution_count": 28,
   "metadata": {},
   "outputs": [
    {
     "name": "stdout",
     "output_type": "stream",
     "text": [
      "enter your cityMumbai\n",
      "your city is present\n"
     ]
    }
   ],
   "source": [
    "#String Functions\n",
    "\n",
    "city=input('enter your city')\n",
    "list1=['Mumbai','Delhi','Bangalore','Kolkata']\n",
    "if city in list1:\n",
    "    print('your city is present')\n",
    "else:\n",
    "    print('your city is not present')"
   ]
  },
  {
   "cell_type": "code",
   "execution_count": 23,
   "metadata": {},
   "outputs": [
    {
     "name": "stdout",
     "output_type": "stream",
     "text": [
      "enter your citydelhi\n",
      "your city is not available\n"
     ]
    }
   ],
   "source": [
    "'''Using small d for Delhi'''\n",
    "\n",
    "city=input('enter your city')\n",
    "list1=['Mumabi','Delhi','Bangalore','Kolkata']\n",
    "if city in list1:\n",
    "    print('your city is available')\n",
    "else:\n",
    "    print('your city is not available')"
   ]
  },
  {
   "cell_type": "code",
   "execution_count": 24,
   "metadata": {},
   "outputs": [
    {
     "name": "stdout",
     "output_type": "stream",
     "text": [
      "enter your city Delhi\n",
      "your city is not available\n"
     ]
    }
   ],
   "source": [
    "'''Using left space and then writing Delhi'''\n",
    "\n",
    "city=input('enter your city')\n",
    "list1=['Mumabi','Delhi','Bangalore','Kolkata']\n",
    "if city in list1:\n",
    "    print('your city is available')\n",
    "else:\n",
    "    print('your city is not available')"
   ]
  },
  {
   "cell_type": "code",
   "execution_count": 29,
   "metadata": {},
   "outputs": [
    {
     "name": "stdout",
     "output_type": "stream",
     "text": [
      "enter your city  Mumbai   \n",
      "your city is available\n"
     ]
    }
   ],
   "source": [
    "#.strip\n",
    "\n",
    "city=input('enter your city')\n",
    "list1=['Mumbai','Delhi','Bangalore','Kolkata']\n",
    "if city.strip() in list1:\n",
    "    print('your city is available')\n",
    "else:\n",
    "    print('your city is not available')"
   ]
  },
  {
   "cell_type": "code",
   "execution_count": null,
   "metadata": {},
   "outputs": [],
   "source": [
    "#Index\n",
    "s.index \n",
    "r.index\n"
   ]
  },
  {
   "cell_type": "code",
   "execution_count": 12,
   "metadata": {},
   "outputs": [
    {
     "name": "stdout",
     "output_type": "stream",
     "text": [
      "Enter the string:suyashhhhrashhh\n",
      "enter the string you want to find:h\n",
      "found the value of Index: 5\n",
      "found the value of Index: 6\n",
      "found the value of Index: 7\n",
      "found the value of Index: 8\n",
      "found the value of Index: 12\n",
      "found the value of Index: 13\n",
      "found the value of Index: 14\n"
     ]
    }
   ],
   "source": [
    "s=input('Enter the string:')\n",
    "sub= input('enter the string you want to find:')\n",
    "flag= False\n",
    "pos = -1\n",
    "n = len(s)\n",
    "while True:\n",
    "    pos=s.find(sub, pos+1, n)\n",
    "    if pos == -1:\n",
    "        break\n",
    "    print('found the value of Index:',pos)\n",
    "    flag= True\n",
    "if flag == False:\n",
    "    print('no',sub, 'found')"
   ]
  },
  {
   "cell_type": "code",
   "execution_count": 14,
   "metadata": {},
   "outputs": [
    {
     "data": {
      "text/plain": [
       "'AyushrastogiAyushrastogi'"
      ]
     },
     "execution_count": 14,
     "metadata": {},
     "output_type": "execute_result"
    }
   ],
   "source": [
    "#.replace\n",
    "\n",
    "s='suyashrastogisuyashrastogi'\n",
    "s.replace('suyash','Ayush')"
   ]
  },
  {
   "cell_type": "code",
   "execution_count": 15,
   "metadata": {},
   "outputs": [
    {
     "data": {
      "text/plain": [
       "['suyash', 'rastogi', 'data', 'scientist']"
      ]
     },
     "execution_count": 15,
     "metadata": {},
     "output_type": "execute_result"
    }
   ],
   "source": [
    "#.split\n",
    "\n",
    "s='suyash:rastogi:data:scientist'\n",
    "s.split(':')"
   ]
  },
  {
   "cell_type": "code",
   "execution_count": 17,
   "metadata": {},
   "outputs": [
    {
     "data": {
      "text/plain": [
       "['A', 'B', 'C', 'D', 'E-F-G-H-I-J']"
      ]
     },
     "execution_count": 17,
     "metadata": {},
     "output_type": "execute_result"
    }
   ],
   "source": [
    "s='A-B-C-D-E-F-G-H-I-J'\n",
    "s.split('-',4)"
   ]
  },
  {
   "cell_type": "code",
   "execution_count": 25,
   "metadata": {},
   "outputs": [
    {
     "data": {
      "text/plain": [
       "'suyash-rastogi-data-scientist'"
      ]
     },
     "execution_count": 25,
     "metadata": {},
     "output_type": "execute_result"
    }
   ],
   "source": [
    "#.join- will convert string into list\n",
    "\n",
    "list=['suyash','rastogi','data','scientist']\n",
    "'-'.join(list)"
   ]
  },
  {
   "cell_type": "code",
   "execution_count": 31,
   "metadata": {},
   "outputs": [
    {
     "name": "stdout",
     "output_type": "stream",
     "text": [
      "SUYASH RASTOGI IS A DATA SCIENTIST\n",
      "suyash rastogi is a data scientist\n",
      "sUYASH rASTOGI IS A dATA sCIENTIST\n",
      "Suyash Rastogi Is A Data Scientist\n",
      "Suyash rastogi is a data scientist\n"
     ]
    }
   ],
   "source": [
    "#.upper\n",
    "#.lower\n",
    "#.swapcase\n",
    "#.title\n",
    "#.capitalise\n",
    "\n",
    "\n",
    "s= 'Suyash Rastogi is a Data Scientist'\n",
    "print(s.upper())\n",
    "print(s.lower())\n",
    "print(s.swapcase())\n",
    "print(s.title())\n",
    "print(s.capitalize())"
   ]
  },
  {
   "cell_type": "code",
   "execution_count": 39,
   "metadata": {},
   "outputs": [
    {
     "data": {
      "text/plain": [
       "False"
      ]
     },
     "execution_count": 39,
     "metadata": {},
     "output_type": "execute_result"
    }
   ],
   "source": [
    "#.startwith and endwith\n",
    "\n",
    "s='Python is a easy langauge'\n",
    "s.startswith('Python')\n",
    "s.endswith('simple')"
   ]
  },
  {
   "cell_type": "code",
   "execution_count": null,
   "metadata": {},
   "outputs": [],
   "source": [
    "#.isalnum\n",
    "#.isalpha\n",
    "#.isdigit\n",
    "#.isspace\n",
    "#.islower\n",
    "#.isupper\n",
    "#.istitle"
   ]
  },
  {
   "cell_type": "code",
   "execution_count": 41,
   "metadata": {},
   "outputs": [
    {
     "name": "stdout",
     "output_type": "stream",
     "text": [
      "enter the stringsuyash\n",
      "it is a alpa numerical\n",
      "it is a alphabet\n",
      "its a lower string\n"
     ]
    }
   ],
   "source": [
    "s=input('enter the string')\n",
    "if s.isalnum():\n",
    "    print('it is a alpa numerical')\n",
    "    if s.isalpha():\n",
    "        print('it is a alphabet')\n",
    "        if s.islower():\n",
    "            print('its a lower string')\n",
    "        else:\n",
    "            print('its a upper string')\n",
    "    elif s.isspace():\n",
    "        print('it is a space')\n",
    "else:\n",
    "    print('it is a special character')"
   ]
  },
  {
   "cell_type": "code",
   "execution_count": 42,
   "metadata": {},
   "outputs": [
    {
     "data": {
      "text/plain": [
       "'hsayus'"
      ]
     },
     "execution_count": 42,
     "metadata": {},
     "output_type": "execute_result"
    }
   ],
   "source": [
    "#.reversed\n",
    "\n",
    "\n",
    "#option 1\n",
    "\n",
    "s='suyash'\n",
    "s[::-1]"
   ]
  },
  {
   "cell_type": "code",
   "execution_count": 44,
   "metadata": {},
   "outputs": [
    {
     "name": "stdout",
     "output_type": "stream",
     "text": [
      "hsayus"
     ]
    }
   ],
   "source": [
    "#option 2 to reverse\n",
    "\n",
    "for x in reversed(s):\n",
    "    print(x, end='')"
   ]
  },
  {
   "cell_type": "code",
   "execution_count": 45,
   "metadata": {},
   "outputs": [
    {
     "name": "stdout",
     "output_type": "stream",
     "text": [
      "enter the stringsuyash\n",
      "5\n",
      "hsayus\n"
     ]
    }
   ],
   "source": [
    "#option 3 to reverse\n",
    "\n",
    "s= input('enter the string')\n",
    "i=len(s)-1\n",
    "print(i)\n",
    "output=''\n",
    "while i>=0:\n",
    "    output=output+s[i]\n",
    "    i=i-1\n",
    "print(output)"
   ]
  },
  {
   "cell_type": "code",
   "execution_count": 48,
   "metadata": {},
   "outputs": [
    {
     "name": "stdout",
     "output_type": "stream",
     "text": [
      "enter the stringsuyash rastogi is a data scientist\n",
      "['suyash', 'rastogi', 'is', 'a', 'data', 'scientist']\n",
      "['scientist', 'data', 'a', 'is', 'rastogi', 'suyash']\n",
      "scientistdataaisrastogisuyash\n"
     ]
    }
   ],
   "source": [
    "#option 4 to reverse\n",
    "\n",
    "s= input('enter the string')\n",
    "list=s.split()\n",
    "print(list)\n",
    "list1=[]\n",
    "i=len(list)-1\n",
    "while i>=0:\n",
    "    list1.append(list[i])\n",
    "    i=i-1\n",
    "print(list1)\n",
    "output=''.join(list1)\n",
    "print(output)"
   ]
  }
 ],
 "metadata": {
  "kernelspec": {
   "display_name": "Python 3",
   "language": "python",
   "name": "python3"
  },
  "language_info": {
   "codemirror_mode": {
    "name": "ipython",
    "version": 3
   },
   "file_extension": ".py",
   "mimetype": "text/x-python",
   "name": "python",
   "nbconvert_exporter": "python",
   "pygments_lexer": "ipython3",
   "version": "3.7.6"
  }
 },
 "nbformat": 4,
 "nbformat_minor": 4
}
