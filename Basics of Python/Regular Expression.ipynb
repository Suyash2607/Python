{
 "cells": [
  {
   "cell_type": "code",
   "execution_count": null,
   "metadata": {},
   "outputs": [],
   "source": [
    "#Regular Expression\n",
    "  #Patter Matching\n",
    "     #-Phone number and email validity"
   ]
  },
  {
   "cell_type": "code",
   "execution_count": 2,
   "metadata": {},
   "outputs": [
    {
     "name": "stdout",
     "output_type": "stream",
     "text": [
      "0\n",
      "2\n",
      "6\n",
      "13\n",
      "16\n",
      "19\n"
     ]
    }
   ],
   "source": [
    "import re\n",
    "p=re.compile('cd')\n",
    "m=p.finditer('cdcdcccdccccccddcdccd')\n",
    "for i in m:\n",
    "    print(i.start())"
   ]
  },
  {
   "cell_type": "code",
   "execution_count": 3,
   "metadata": {},
   "outputs": [
    {
     "name": "stdout",
     "output_type": "stream",
     "text": [
      "0\n",
      "2\n",
      "6\n",
      "13\n",
      "16\n",
      "19\n",
      "6\n"
     ]
    }
   ],
   "source": [
    "'''adding count function'''\n",
    "import re\n",
    "p=re.compile('cd')\n",
    "m=p.finditer('cdcdcccdccccccddcdccd')\n",
    "count=0\n",
    "for i in m:\n",
    "    print(i.start())\n",
    "    count=count+1\n",
    "print(count)"
   ]
  },
  {
   "cell_type": "code",
   "execution_count": 4,
   "metadata": {},
   "outputs": [
    {
     "name": "stdout",
     "output_type": "stream",
     "text": [
      "0 2\n",
      "2 4\n",
      "6 8\n",
      "13 15\n",
      "16 18\n",
      "19 21\n"
     ]
    }
   ],
   "source": [
    "import re\n",
    "p=re.compile('cd')\n",
    "m=p.finditer('cdcdcccdccccccddcdccd')\n",
    "for i in m:\n",
    "    print(i.start(),i.end())"
   ]
  },
  {
   "cell_type": "code",
   "execution_count": null,
   "metadata": {},
   "outputs": [],
   "source": [
    "#[abc] - either a or b or c\n",
    "#[^abc] - except a and b and c\n",
    "#[a-z] - any lower case alphabets\n",
    "#[^a-z] - Except lower case alphabets\n",
    "#[A-Z] - any upper case alphabets\n",
    "#[^A-Z] - except upper case alphabets\n",
    "#[0-9] - any digit between 0 to 9\n",
    "#[a-zA-Z0-9] - any alpha upper or lower plus any digit between 0 to 9\n",
    "#[^a-zA-Z0-9] - all other characters"
   ]
  },
  {
   "cell_type": "code",
   "execution_count": 6,
   "metadata": {},
   "outputs": [
    {
     "name": "stdout",
     "output_type": "stream",
     "text": [
      "0 .... 1\n",
      "1 .... 2\n",
      "2 .... 3\n",
      "3 .... 4\n",
      "9 .... 10\n"
     ]
    }
   ],
   "source": [
    "import re\n",
    "m=re.finditer('[a-z]','abfe3204-q @')\n",
    "for i in m:\n",
    "    print(i.start(),'....',i.end())"
   ]
  },
  {
   "cell_type": "code",
   "execution_count": 7,
   "metadata": {},
   "outputs": [
    {
     "name": "stdout",
     "output_type": "stream",
     "text": [
      "4 .... 5\n",
      "5 .... 6\n",
      "6 .... 7\n",
      "7 .... 8\n",
      "8 .... 9\n",
      "10 .... 11\n",
      "11 .... 12\n"
     ]
    }
   ],
   "source": [
    "import re\n",
    "m=re.finditer('[^a-z]','abfe3204-q @')\n",
    "for i in m:\n",
    "    print(i.start(),'....',i.end())"
   ]
  },
  {
   "cell_type": "code",
   "execution_count": 9,
   "metadata": {},
   "outputs": [
    {
     "name": "stdout",
     "output_type": "stream",
     "text": [
      "8 .... 9 -\n",
      "10 .... 11  \n",
      "11 .... 12 @\n"
     ]
    }
   ],
   "source": [
    "import re\n",
    "m=re.finditer('[^a-zA-Z0-9]','abfe3204-q @')\n",
    "for i in m:\n",
    "    print(i.start(),'....',i.end(),i.group())"
   ]
  },
  {
   "cell_type": "code",
   "execution_count": null,
   "metadata": {},
   "outputs": [],
   "source": [
    "#Predefined charaters\n",
    "  #\\s - search for space\n",
    "  #\\S - except space character\n",
    "  #\\d - any digit\n",
    "  #\\D - except digit\n",
    "  #\\w - any word character (alpha numeric) i.e [a-zA-Z0-9]\n",
    "  #W - any character except (alpha numeric). will search for special characters\n",
    "  #. - dot is used  for every character "
   ]
  },
  {
   "cell_type": "code",
   "execution_count": 11,
   "metadata": {},
   "outputs": [
    {
     "name": "stdout",
     "output_type": "stream",
     "text": [
      "0 .... 1 .... a\n",
      "1 .... 2 .... b\n",
      "2 .... 3 .... f\n",
      "3 .... 4 .... e\n",
      "8 .... 9 .... -\n",
      "9 .... 10 .... q\n",
      "10 .... 11 ....  \n",
      "11 .... 12 .... @\n"
     ]
    }
   ],
   "source": [
    "import re\n",
    "m=re.finditer('\\D','abfe3204-q @')\n",
    "for i in m:\n",
    "    print(i.start(),'....',i.end(),'....', i.group())"
   ]
  },
  {
   "cell_type": "code",
   "execution_count": null,
   "metadata": {},
   "outputs": [],
   "source": [
    "#QUANTIFIERS\n",
    "   #helps to get the location of all the desired alphabets\n",
    "   #helps to get atleast 1 alphabet or any number of desired alphabet"
   ]
  },
  {
   "cell_type": "code",
   "execution_count": 14,
   "metadata": {},
   "outputs": [
    {
     "name": "stdout",
     "output_type": "stream",
     "text": [
      "0 .... 1 .... s\n",
      "4 .... 5 .... s\n"
     ]
    }
   ],
   "source": [
    "import re\n",
    "m=re.finditer('s','suyash')\n",
    "for i in m:\n",
    "    print(i.start(),'....',i.end(),'....', i.group())\n",
    "    \n",
    "    #Here we are getting the location of all the s"
   ]
  },
  {
   "cell_type": "code",
   "execution_count": 18,
   "metadata": {},
   "outputs": [
    {
     "name": "stdout",
     "output_type": "stream",
     "text": [
      "0 1 .... s\n",
      "4 9 .... sssss\n",
      "10 12 .... ss\n"
     ]
    }
   ],
   "source": [
    "import re\n",
    "m=re.finditer('s+','suyassssshss')\n",
    "for i in m:\n",
    "    print(i.start(),i.end(),'....', i.group())\n",
    "    \n",
    "    #Atleast 1 s or any number of s"
   ]
  },
  {
   "cell_type": "code",
   "execution_count": 19,
   "metadata": {},
   "outputs": [
    {
     "name": "stdout",
     "output_type": "stream",
     "text": [
      "0 1 .... s\n",
      "1 1 .... \n",
      "2 2 .... \n",
      "3 3 .... \n",
      "4 9 .... sssss\n",
      "9 9 .... \n",
      "10 12 .... ss\n",
      "12 12 .... \n"
     ]
    }
   ],
   "source": [
    "import re\n",
    "m=re.finditer('s*','suyassssshss')\n",
    "for i in m:\n",
    "    print(i.start(),i.end(),'....', i.group())\n",
    "    \n",
    "    #Here we are getting any number of s including 0 also"
   ]
  },
  {
   "cell_type": "code",
   "execution_count": 20,
   "metadata": {},
   "outputs": [
    {
     "name": "stdout",
     "output_type": "stream",
     "text": [
      "0 1 .... s\n",
      "1 1 .... \n",
      "2 2 .... \n",
      "3 3 .... \n",
      "4 5 .... s\n",
      "5 6 .... s\n",
      "6 7 .... s\n",
      "7 8 .... s\n",
      "8 9 .... s\n",
      "9 9 .... \n",
      "10 11 .... s\n",
      "11 12 .... s\n",
      "12 12 .... \n"
     ]
    }
   ],
   "source": [
    "import re\n",
    "m=re.finditer('s?','suyassssshss')\n",
    "for i in m:\n",
    "    print(i.start(),i.end(),'....', i.group())\n",
    "    \n",
    "    #Here we are getting atmost 1 s "
   ]
  },
  {
   "cell_type": "code",
   "execution_count": 21,
   "metadata": {},
   "outputs": [
    {
     "name": "stdout",
     "output_type": "stream",
     "text": [
      "4 6 .... ss\n",
      "6 8 .... ss\n",
      "10 12 .... ss\n"
     ]
    }
   ],
   "source": [
    "import re\n",
    "m=re.finditer('s{2}','suyassssshss')\n",
    "for i in m:\n",
    "    print(i.start(),i.end(),'....', i.group())\n",
    "    \n",
    "    #Here we are getting exactly n number of s where n is 2 in this scenario"
   ]
  },
  {
   "cell_type": "code",
   "execution_count": 22,
   "metadata": {},
   "outputs": [
    {
     "name": "stdout",
     "output_type": "stream",
     "text": [
      "4 7 .... sss\n",
      "7 9 .... ss\n",
      "10 12 .... ss\n"
     ]
    }
   ],
   "source": [
    "import re\n",
    "m=re.finditer('s{2,3}','suyassssshss')\n",
    "for i in m:\n",
    "    print(i.start(),i.end(),'....', i.group())\n",
    "    \n",
    "    #Here we are getting minimum of 2 and maximum of 3 in this example"
   ]
  },
  {
   "cell_type": "code",
   "execution_count": 23,
   "metadata": {},
   "outputs": [
    {
     "name": "stdout",
     "output_type": "stream",
     "text": [
      "12 13 .... h\n"
     ]
    }
   ],
   "source": [
    "import re\n",
    "m=re.finditer('h$','suyassssshssh')\n",
    "for i in m:\n",
    "    print(i.start(),i.end(),'....', i.group())\n",
    "    \n",
    "    #$ - dollar sign to check whether my string is ending that alphabet. Here we are checking h"
   ]
  },
  {
   "cell_type": "code",
   "execution_count": 24,
   "metadata": {},
   "outputs": [
    {
     "name": "stdout",
     "output_type": "stream",
     "text": [
      "enter the pattern to checkSuy\n",
      "match found\n"
     ]
    }
   ],
   "source": [
    "import re\n",
    "name = input('enter the pattern to check')\n",
    "m=re.match(name,'SuyashRastogi')\n",
    "if m!=None:\n",
    "    print('match found')\n",
    "else:\n",
    "    print(\"no match found\")"
   ]
  },
  {
   "cell_type": "code",
   "execution_count": 25,
   "metadata": {},
   "outputs": [
    {
     "name": "stdout",
     "output_type": "stream",
     "text": [
      "enter the pattern to checkRas\n",
      "no match found\n"
     ]
    }
   ],
   "source": [
    "import re\n",
    "name = input('enter the pattern to check')\n",
    "m=re.match(name,'SuyashRastogi')\n",
    "if m!=None:\n",
    "    print('match found')\n",
    "else:\n",
    "    print(\"no match found\")"
   ]
  },
  {
   "cell_type": "code",
   "execution_count": 26,
   "metadata": {},
   "outputs": [
    {
     "name": "stdout",
     "output_type": "stream",
     "text": [
      "enter the pattern to checkSuyashRastogi\n",
      "match found\n"
     ]
    }
   ],
   "source": [
    "import re\n",
    "name = input('enter the pattern to check')\n",
    "m=re.fullmatch(name,'SuyashRastogi')\n",
    "if m!=None:\n",
    "    print('match found')\n",
    "else:\n",
    "    print(\"no match found\")"
   ]
  },
  {
   "cell_type": "code",
   "execution_count": 28,
   "metadata": {},
   "outputs": [
    {
     "name": "stdout",
     "output_type": "stream",
     "text": [
      "enter the pattern to checks\n",
      "Got it 0 ... 1\n"
     ]
    }
   ],
   "source": [
    "import re\n",
    "name=input('enter the pattern to check')\n",
    "m=re.search(name, 'suyashrastogi')\n",
    "if m!=None:\n",
    "    print(\"Got it\",m.start(),'...',m.end())\n",
    "else:\n",
    "    print('Did not get it')"
   ]
  },
  {
   "cell_type": "code",
   "execution_count": 31,
   "metadata": {},
   "outputs": [
    {
     "name": "stdout",
     "output_type": "stream",
     "text": [
      "enter the pattern to checks\n",
      "3\n"
     ]
    }
   ],
   "source": [
    "import re\n",
    "name=input('enter the pattern to check')\n",
    "m=re.findall(name, 'suyashrastogi')\n",
    "print(len(m))"
   ]
  },
  {
   "cell_type": "code",
   "execution_count": 35,
   "metadata": {},
   "outputs": [
    {
     "name": "stdout",
     "output_type": "stream",
     "text": [
      "['r', 'a', 't', 'o', 'g', 'i']\n"
     ]
    }
   ],
   "source": [
    "import re\n",
    "m=re.findall('[a-z]', 'ra@t232o35gi')\n",
    "print(m)"
   ]
  },
  {
   "cell_type": "code",
   "execution_count": 36,
   "metadata": {},
   "outputs": [
    {
     "name": "stdout",
     "output_type": "stream",
     "text": [
      "[]\n"
     ]
    }
   ],
   "source": [
    "import re\n",
    "m=re.findall('\\.', 'ra@t232o35gi')\n",
    "print(m)"
   ]
  },
  {
   "cell_type": "code",
   "execution_count": 37,
   "metadata": {},
   "outputs": [
    {
     "name": "stdout",
     "output_type": "stream",
     "text": [
      "['@']\n"
     ]
    }
   ],
   "source": [
    "import re\n",
    "m=re.findall('\\W', 'ra@t232o35gi')\n",
    "print(m)"
   ]
  },
  {
   "cell_type": "code",
   "execution_count": 38,
   "metadata": {},
   "outputs": [
    {
     "name": "stdout",
     "output_type": "stream",
     "text": [
      "ra@t###o##gi\n"
     ]
    }
   ],
   "source": [
    "import re\n",
    "m=re.sub('\\d','#','ra@t232o35gi')\n",
    "print(m)"
   ]
  },
  {
   "cell_type": "code",
   "execution_count": 41,
   "metadata": {},
   "outputs": [
    {
     "name": "stdout",
     "output_type": "stream",
     "text": [
      "('ra@t###o##gi', 5)\n"
     ]
    }
   ],
   "source": [
    "import re\n",
    "m=re.subn('\\d','#','ra@t232o35gi')\n",
    "print(m)"
   ]
  },
  {
   "cell_type": "code",
   "execution_count": 42,
   "metadata": {},
   "outputs": [
    {
     "name": "stdout",
     "output_type": "stream",
     "text": [
      "('##@#########', 11)\n"
     ]
    }
   ],
   "source": [
    "import re\n",
    "m=re.subn('\\w','#','ra@t232o35gi')\n",
    "print(m)"
   ]
  },
  {
   "cell_type": "code",
   "execution_count": 43,
   "metadata": {},
   "outputs": [
    {
     "name": "stdout",
     "output_type": "stream",
     "text": [
      "['10', '20', '30', '40']\n"
     ]
    }
   ],
   "source": [
    "import re\n",
    "a=re.split(':','10:20:30:40')\n",
    "print(a)"
   ]
  },
  {
   "cell_type": "code",
   "execution_count": 44,
   "metadata": {},
   "outputs": [
    {
     "name": "stdout",
     "output_type": "stream",
     "text": [
      "['www', 'xyz', 'com']\n"
     ]
    }
   ],
   "source": [
    "import re\n",
    "a= re.split('\\.','www.xyz.com')\n",
    "print(a)"
   ]
  },
  {
   "cell_type": "code",
   "execution_count": 47,
   "metadata": {},
   "outputs": [
    {
     "name": "stdout",
     "output_type": "stream",
     "text": [
      "starts with Learn\n"
     ]
    }
   ],
   "source": [
    "import re\n",
    "s= 'Learning python is easy'\n",
    "m= re.search('^Learn',s)\n",
    "if m!=None:\n",
    "    print('starts with Learn')\n",
    "else:\n",
    "    print('Did not starts with Learn')"
   ]
  },
  {
   "cell_type": "code",
   "execution_count": 48,
   "metadata": {},
   "outputs": [
    {
     "name": "stdout",
     "output_type": "stream",
     "text": [
      "it ends with easy\n"
     ]
    }
   ],
   "source": [
    "import re\n",
    "s= 'Learning python is easy'\n",
    "m= re.search('Easy$',s,re.IGNORECASE)\n",
    "if m!=None:\n",
    "    print('it ends with easy')\n",
    "else:\n",
    "    print('Do not ends with easy')"
   ]
  },
  {
   "cell_type": "code",
   "execution_count": null,
   "metadata": {},
   "outputs": [],
   "source": [
    "'''Practical Example'''\n",
    "\n",
    "#new programming language Sython - Identifiers\n",
    "  #1. The allowed characters are -\n",
    "       #a. Alphabets\n",
    "       #b. Digits\n",
    "       #c. #\n",
    "\n",
    "  #2. First character should be of lower case and from a to k only\n",
    "  #3. The second character should be of any digit divisble by 3\n",
    "  #4. The length of identifier should be atleast 2"
   ]
  },
  {
   "cell_type": "code",
   "execution_count": 49,
   "metadata": {},
   "outputs": [
    {
     "name": "stdout",
     "output_type": "stream",
     "text": [
      "Enter the identifier to validatea3#\n",
      "Is a valid identifier\n"
     ]
    }
   ],
   "source": [
    "import re\n",
    "s= input('Enter the identifier to validate')\n",
    "m=re.fullmatch('[a-k][0369][a-zA-Z0-9#]*',s) \n",
    "if m!=None:\n",
    "    print('Is a valid identifier')\n",
    "else:\n",
    "    print('Is an invalid identifier')\n",
    "                                 "
   ]
  },
  {
   "cell_type": "code",
   "execution_count": 50,
   "metadata": {},
   "outputs": [
    {
     "name": "stdout",
     "output_type": "stream",
     "text": [
      "Enter the number to validate9711769318\n",
      "Valid mobile number\n"
     ]
    }
   ],
   "source": [
    "import re\n",
    "num= input('Enter the number to validate')\n",
    "m= re.fullmatch('[6-9]\\d{9}',num)\n",
    "if m!=None:\n",
    "    print(\"Valid mobile number\")\n",
    "else:\n",
    "    print('Invalid mobile number')"
   ]
  },
  {
   "cell_type": "code",
   "execution_count": 58,
   "metadata": {},
   "outputs": [
    {
     "name": "stdout",
     "output_type": "stream",
     "text": [
      "Searching... https://www.rediff.com/\n",
      "60\n"
     ]
    }
   ],
   "source": [
    "#WEB SCRAPING\n",
    "\n",
    "import re, urllib\n",
    "import urllib.request\n",
    "sites=['https://www.rediff.com/']\n",
    "for i in sites:\n",
    "    print('Searching...',i)\n",
    "    u=urllib.request.urlopen(i)\n",
    "    text= u.read()\n",
    "    title=re.findall('<title>.*</title>',str(text),re.IGNORECASE)\n",
    "    print(text[0])"
   ]
  },
  {
   "cell_type": "code",
   "execution_count": 59,
   "metadata": {},
   "outputs": [
    {
     "name": "stdout",
     "output_type": "stream",
     "text": [
      "(257) 563-7401\n",
      "(372) 587-2335\n",
      "(786) 713-8616\n",
      "(793) 151-6230\n",
      "(492) 709-6392\n",
      "(654) 393-5734\n",
      "(404) 960-3807\n",
      "(314) 244-6306\n",
      "(947) 278-5929\n",
      "(684) 579-1879\n",
      "(389) 737-2852\n",
      "(660) 663-4518\n",
      "(608) 265-2215\n",
      "(959) 119-8364\n",
      "(468) 353-2641\n",
      "(248) 675-4007\n",
      "(939) 353-1107\n",
      "(570) 873-7090\n",
      "(302) 259-2375\n",
      "(717) 450-4729\n",
      "(453) 391-4650\n",
      "(559) 104-5475\n",
      "(387) 142-9434\n",
      "(516) 745-4496\n",
      "(326) 677-3419\n",
      "(746) 679-2470\n",
      "(455) 430-0989\n",
      "(490) 936-4694\n",
      "(985) 834-8285\n",
      "(662) 661-1446\n",
      "(802) 668-8240\n",
      "(477) 768-9247\n",
      "(791) 239-9057\n",
      "(832) 109-0213\n",
      "(837) 196-3274\n",
      "(268) 442-2428\n",
      "(850) 676-5117\n",
      "(861) 546-5032\n",
      "(176) 805-4108\n",
      "(715) 912-6931\n",
      "(993) 554-0563\n",
      "(357) 616-5411\n",
      "(121) 347-0086\n",
      "(304) 506-6314\n",
      "(425) 288-2332\n",
      "(145) 987-4962\n",
      "(187) 582-9707\n",
      "(750) 558-3965\n",
      "(492) 467-3131\n",
      "(774) 914-2510\n",
      "(888) 106-8550\n",
      "(539) 567-3573\n",
      "(693) 337-2849\n",
      "(545) 604-9386\n",
      "(221) 156-5026\n",
      "(414) 876-0865\n",
      "(932) 726-8645\n",
      "(726) 710-9826\n",
      "(622) 594-1662\n",
      "(948) 600-8503\n",
      "(605) 900-7508\n",
      "(716) 977-5775\n",
      "(368) 239-8275\n",
      "(725) 342-0650\n",
      "(711) 993-5187\n",
      "(882) 399-5084\n",
      "(287) 755-9948\n",
      "(659) 551-3389\n",
      "(275) 730-6868\n",
      "(725) 757-4047\n",
      "(314) 882-1496\n",
      "(639) 360-7590\n",
      "(168) 222-1592\n",
      "(896) 303-1164\n",
      "(203) 982-6130\n",
      "(906) 217-1470\n",
      "(614) 514-1269\n",
      "(763) 409-5446\n",
      "(836) 292-5324\n",
      "(926) 709-3295\n",
      "(963) 356-9268\n",
      "(736) 522-8584\n",
      "(410) 483-0352\n",
      "(252) 204-1434\n",
      "(874) 886-4174\n",
      "(581) 379-7573\n",
      "(983) 632-8597\n",
      "(295) 983-3476\n",
      "(873) 392-8802\n",
      "(360) 669-3923\n",
      "(840) 987-9449\n",
      "(422) 517-6053\n",
      "(126) 940-2753\n",
      "(427) 930-5255\n",
      "(689) 721-5145\n",
      "(676) 334-2174\n",
      "(437) 994-5270\n",
      "(564) 908-6970\n",
      "(577) 333-6244\n",
      "(655) 840-6139\n"
     ]
    }
   ],
   "source": [
    "import re, urllib\n",
    "import urllib.request\n",
    "url='https://www.summet.com/dmsi/html/codesamples/addresses.html'\n",
    "u=urllib.request.urlopen(url)\n",
    "text=u.read()\n",
    "text_str=text.decode()\n",
    "pdata=re.findall('\\(\\d{3}\\) \\d{3}-\\d{4}',text_str)\n",
    "for i in pdata:\n",
    "    print(i)"
   ]
  },
  {
   "cell_type": "code",
   "execution_count": 74,
   "metadata": {},
   "outputs": [
    {
     "name": "stdout",
     "output_type": "stream",
     "text": [
      "Enter the mobile number starting with zero to validate6243654263\n",
      "Its a invalid number\n"
     ]
    }
   ],
   "source": [
    "import re\n",
    "num=input('Enter the mobile number starting with zero to validate')\n",
    "m=re.fullmatch('[0][6-9]\\d{9}',num)\n",
    "if m!=None:\n",
    "    print('Its a valid number')\n",
    "else:\n",
    "    print('Its a invalid number')"
   ]
  },
  {
   "cell_type": "code",
   "execution_count": 75,
   "metadata": {},
   "outputs": [
    {
     "name": "stdout",
     "output_type": "stream",
     "text": [
      "Enter the mobile number starting with zero to validate09711769318\n",
      "Its a valid number\n"
     ]
    }
   ],
   "source": [
    "import re\n",
    "num=input('Enter the mobile number starting with zero to validate')\n",
    "m=re.fullmatch('[0][6-9]\\d{9}',num)\n",
    "if m!=None:\n",
    "    print('Its a valid number')\n",
    "else:\n",
    "    print('Its a invalid number')"
   ]
  },
  {
   "cell_type": "code",
   "execution_count": 2,
   "metadata": {},
   "outputs": [
    {
     "name": "stdout",
     "output_type": "stream",
     "text": [
      "Enter the mobile number starting with 91 to validate917982624011\n",
      "Its a valid number\n"
     ]
    }
   ],
   "source": [
    "import re\n",
    "num=input('Enter the mobile number starting with 91 to validate')\n",
    "m=re.fullmatch('(91)[6-9]\\d{9}',num)\n",
    "if m!=None:\n",
    "    print('Its a valid number')\n",
    "else:\n",
    "    print('Its a invalid number')"
   ]
  },
  {
   "cell_type": "code",
   "execution_count": 3,
   "metadata": {},
   "outputs": [
    {
     "name": "stdout",
     "output_type": "stream",
     "text": [
      "Enter the mobile number starting with 91 to validate07982656981\n",
      "Its a invalid number\n"
     ]
    }
   ],
   "source": [
    "import re\n",
    "num=input('Enter the mobile number starting with 91 to validate')\n",
    "m=re.fullmatch('(91)[6-9]\\d{9}',num)\n",
    "if m!=None:\n",
    "    print('Its a valid number')\n",
    "else:\n",
    "    print('Its a invalid number')"
   ]
  },
  {
   "cell_type": "code",
   "execution_count": 48,
   "metadata": {},
   "outputs": [
    {
     "name": "stdout",
     "output_type": "stream",
     "text": [
      "Enter the mobile number starting with +91 to validate$917900909808\n",
      "Its a invalid number\n"
     ]
    }
   ],
   "source": [
    "import re\n",
    "num=input('Enter the mobile number starting with +91 to validate')\n",
    "m=re.fullmatch('(\\+91)[6-9]\\d{9}',num)\n",
    "if m!=None:\n",
    "    print('Its a valid number')\n",
    "else:\n",
    "    print('Its a invalid number')"
   ]
  },
  {
   "cell_type": "code",
   "execution_count": 51,
   "metadata": {},
   "outputs": [
    {
     "name": "stdout",
     "output_type": "stream",
     "text": [
      "Enter the mobile number starting with +91 to validate+916787329382\n",
      "Its a valid number\n"
     ]
    }
   ],
   "source": [
    "import re\n",
    "num=input('Enter the mobile number starting with +91 to validate')\n",
    "m=re.fullmatch('(\\+91)[6-9]\\d{9}',num)\n",
    "if m!=None:\n",
    "    print('Its a valid number')\n",
    "else:\n",
    "    print('Its a invalid number')\n"
   ]
  },
  {
   "cell_type": "code",
   "execution_count": 61,
   "metadata": {},
   "outputs": [
    {
     "name": "stdout",
     "output_type": "stream",
     "text": [
      "12\n"
     ]
    }
   ],
   "source": [
    "def binarytodecimal(n):\n",
    "        return int(n,2)\n",
    "print(binarytodecimal('1100'))"
   ]
  },
  {
   "cell_type": "code",
   "execution_count": null,
   "metadata": {},
   "outputs": [],
   "source": []
  }
 ],
 "metadata": {
  "kernelspec": {
   "display_name": "Python 3",
   "language": "python",
   "name": "python3"
  },
  "language_info": {
   "codemirror_mode": {
    "name": "ipython",
    "version": 3
   },
   "file_extension": ".py",
   "mimetype": "text/x-python",
   "name": "python",
   "nbconvert_exporter": "python",
   "pygments_lexer": "ipython3",
   "version": "3.7.6"
  }
 },
 "nbformat": 4,
 "nbformat_minor": 4
}
